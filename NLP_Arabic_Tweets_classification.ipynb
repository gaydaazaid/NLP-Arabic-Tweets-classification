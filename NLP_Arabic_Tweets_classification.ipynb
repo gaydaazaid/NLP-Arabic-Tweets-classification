{
  "cells": [
    {
      "cell_type": "markdown",
      "metadata": {
        "id": "mTSOZMRKrC7j"
      },
      "source": [
        "### **1) Import Libraries**"
      ]
    },
    {
      "cell_type": "code",
      "execution_count": null,
      "metadata": {
        "id": "vxTLL5eNOyna",
        "colab": {
          "base_uri": "https://localhost:8080/"
        },
        "outputId": "853e6a79-b95d-4dc6-ac4c-4f5b524a914d"
      },
      "outputs": [
        {
          "output_type": "stream",
          "name": "stdout",
          "text": [
            "\u001b[2K     \u001b[90m━━━━━━━━━━━━━━━━━━━━━━━━━━━━━━━━━━━━━━━━\u001b[0m \u001b[32m25.3/25.3 MB\u001b[0m \u001b[31m40.9 MB/s\u001b[0m eta \u001b[36m0:00:00\u001b[0m\n",
            "\u001b[?25h  Preparing metadata (setup.py) ... \u001b[?25l\u001b[?25hdone\n",
            "\u001b[2K     \u001b[90m━━━━━━━━━━━━━━━━━━━━━━━━━━━━━━━━━━━━━━\u001b[0m \u001b[32m981.5/981.5 KB\u001b[0m \u001b[31m20.7 MB/s\u001b[0m eta \u001b[36m0:00:00\u001b[0m\n",
            "\u001b[?25h  Preparing metadata (setup.py) ... \u001b[?25l\u001b[?25hdone\n",
            "\u001b[2K     \u001b[90m━━━━━━━━━━━━━━━━━━━━━━━━━━━━━━━━━━━━━━\u001b[0m \u001b[32m266.0/266.0 KB\u001b[0m \u001b[31m24.8 MB/s\u001b[0m eta \u001b[36m0:00:00\u001b[0m\n",
            "\u001b[2K     \u001b[90m━━━━━━━━━━━━━━━━━━━━━━━━━━━━━━━━━━━━━━━━\u001b[0m \u001b[32m5.8/5.8 MB\u001b[0m \u001b[31m69.7 MB/s\u001b[0m eta \u001b[36m0:00:00\u001b[0m\n",
            "\u001b[2K     \u001b[90m━━━━━━━━━━━━━━━━━━━━━━━━━━━━━━━━━━━━━━━━\u001b[0m \u001b[32m1.3/1.3 MB\u001b[0m \u001b[31m68.0 MB/s\u001b[0m eta \u001b[36m0:00:00\u001b[0m\n",
            "\u001b[?25h  Preparing metadata (setup.py) ... \u001b[?25l\u001b[?25hdone\n",
            "\u001b[2K     \u001b[90m━━━━━━━━━━━━━━━━━━━━━━━━━━━━━━━━━━━━━━\u001b[0m \u001b[32m468.8/468.8 KB\u001b[0m \u001b[31m41.9 MB/s\u001b[0m eta \u001b[36m0:00:00\u001b[0m\n",
            "\u001b[?25h  Preparing metadata (setup.py) ... \u001b[?25l\u001b[?25hdone\n",
            "  Preparing metadata (setup.py) ... \u001b[?25l\u001b[?25hdone\n",
            "  Preparing metadata (setup.py) ... \u001b[?25l\u001b[?25hdone\n",
            "  Preparing metadata (setup.py) ... \u001b[?25l\u001b[?25hdone\n",
            "  Preparing metadata (setup.py) ... \u001b[?25l\u001b[?25hdone\n",
            "  Preparing metadata (setup.py) ... \u001b[?25l\u001b[?25hdone\n",
            "  Preparing metadata (setup.py) ... \u001b[?25l\u001b[?25hdone\n",
            "\u001b[2K     \u001b[90m━━━━━━━━━━━━━━━━━━━━━━━━━━━━━━━━━━━━━━\u001b[0m \u001b[32m182.4/182.4 KB\u001b[0m \u001b[31m22.6 MB/s\u001b[0m eta \u001b[36m0:00:00\u001b[0m\n",
            "\u001b[2K     \u001b[90m━━━━━━━━━━━━━━━━━━━━━━━━━━━━━━━━━━━━━━━━\u001b[0m \u001b[32m7.6/7.6 MB\u001b[0m \u001b[31m102.7 MB/s\u001b[0m eta \u001b[36m0:00:00\u001b[0m\n",
            "\u001b[?25h  Building wheel for ktrain (setup.py) ... \u001b[?25l\u001b[?25hdone\n",
            "  Building wheel for keras_bert (setup.py) ... \u001b[?25l\u001b[?25hdone\n",
            "  Building wheel for keras-transformer (setup.py) ... \u001b[?25l\u001b[?25hdone\n",
            "  Building wheel for keras-embed-sim (setup.py) ... \u001b[?25l\u001b[?25hdone\n",
            "  Building wheel for keras-layer-normalization (setup.py) ... \u001b[?25l\u001b[?25hdone\n",
            "  Building wheel for keras-multi-head (setup.py) ... \u001b[?25l\u001b[?25hdone\n",
            "  Building wheel for keras-pos-embd (setup.py) ... \u001b[?25l\u001b[?25hdone\n",
            "  Building wheel for keras-position-wise-feed-forward (setup.py) ... \u001b[?25l\u001b[?25hdone\n",
            "  Building wheel for keras-self-attention (setup.py) ... \u001b[?25l\u001b[?25hdone\n",
            "  Building wheel for langdetect (setup.py) ... \u001b[?25l\u001b[?25hdone\n"
          ]
        }
      ],
      "source": [
        "!pip install -q ktrain"
      ]
    },
    {
      "cell_type": "code",
      "execution_count": null,
      "metadata": {
        "id": "E4HKjYUDUrea"
      },
      "outputs": [],
      "source": [
        "import pandas as pd\n",
        "import numpy as np \n",
        "import seaborn as sns \n",
        "from sklearn import preprocessing\n",
        "import matplotlib.pyplot as plt\n",
        "import re \n",
        "\n",
        "#nltk\n",
        "import nltk\n",
        "from nltk.corpus import stopwords\n",
        "from nltk.stem import WordNetLemmatizer\n",
        "from nltk.stem import PorterStemmer\n",
        "\n",
        "#tensorflow\n",
        "import tensorflow as tf\n",
        "from tensorflow import keras\n",
        "from tensorflow.keras.preprocessing.text import Tokenizer\n",
        "from tensorflow.keras.preprocessing.sequence import pad_sequences\n",
        "from collections import Counter \n",
        "\n",
        "import matplotlib.cm as cm\n",
        "from matplotlib import rcParams\n",
        "from prettytable import PrettyTable\n",
        "\n",
        "\n",
        "\n",
        "from sklearn.model_selection import train_test_split\n",
        "\n",
        "#keras\n",
        "from sklearn.metrics import classification_report\n",
        "from keras.layers import (Dense, Embedding, Reshape, Activation, \n",
        "                          SimpleRNN, LSTM, Convolution1D, \n",
        "                          MaxPooling1D, Dropout, Bidirectional)\n",
        "from keras.utils import np_utils\n",
        "from keras.datasets import imdb, reuters\n",
        "\n",
        "from keras.models import Sequential\n",
        "\n",
        "#Ktrain\n",
        "import ktrain\n",
        "from ktrain import text\n",
        "import tensorflow as tf\n",
        "import pandas as pd\n",
        "from sklearn.model_selection import train_test_split\n",
        "\n",
        "\n"
      ]
    },
    {
      "cell_type": "code",
      "execution_count": null,
      "metadata": {
        "id": "22PWQ2JL0KFq",
        "colab": {
          "base_uri": "https://localhost:8080/"
        },
        "outputId": "bc1c50e8-35ed-4320-9df0-1fe725604b77"
      },
      "outputs": [
        {
          "output_type": "stream",
          "name": "stderr",
          "text": [
            "[nltk_data] Downloading collection 'popular'\n",
            "[nltk_data]    | \n",
            "[nltk_data]    | Downloading package cmudict to /root/nltk_data...\n",
            "[nltk_data]    |   Unzipping corpora/cmudict.zip.\n",
            "[nltk_data]    | Downloading package gazetteers to /root/nltk_data...\n",
            "[nltk_data]    |   Unzipping corpora/gazetteers.zip.\n",
            "[nltk_data]    | Downloading package genesis to /root/nltk_data...\n",
            "[nltk_data]    |   Unzipping corpora/genesis.zip.\n",
            "[nltk_data]    | Downloading package gutenberg to /root/nltk_data...\n",
            "[nltk_data]    |   Unzipping corpora/gutenberg.zip.\n",
            "[nltk_data]    | Downloading package inaugural to /root/nltk_data...\n",
            "[nltk_data]    |   Unzipping corpora/inaugural.zip.\n",
            "[nltk_data]    | Downloading package movie_reviews to\n",
            "[nltk_data]    |     /root/nltk_data...\n",
            "[nltk_data]    |   Unzipping corpora/movie_reviews.zip.\n",
            "[nltk_data]    | Downloading package names to /root/nltk_data...\n",
            "[nltk_data]    |   Unzipping corpora/names.zip.\n",
            "[nltk_data]    | Downloading package shakespeare to /root/nltk_data...\n",
            "[nltk_data]    |   Unzipping corpora/shakespeare.zip.\n",
            "[nltk_data]    | Downloading package stopwords to /root/nltk_data...\n",
            "[nltk_data]    |   Unzipping corpora/stopwords.zip.\n",
            "[nltk_data]    | Downloading package treebank to /root/nltk_data...\n",
            "[nltk_data]    |   Unzipping corpora/treebank.zip.\n",
            "[nltk_data]    | Downloading package twitter_samples to\n",
            "[nltk_data]    |     /root/nltk_data...\n",
            "[nltk_data]    |   Unzipping corpora/twitter_samples.zip.\n",
            "[nltk_data]    | Downloading package omw to /root/nltk_data...\n",
            "[nltk_data]    | Downloading package omw-1.4 to /root/nltk_data...\n",
            "[nltk_data]    | Downloading package wordnet to /root/nltk_data...\n",
            "[nltk_data]    | Downloading package wordnet2021 to /root/nltk_data...\n",
            "[nltk_data]    | Downloading package wordnet31 to /root/nltk_data...\n",
            "[nltk_data]    | Downloading package wordnet_ic to /root/nltk_data...\n",
            "[nltk_data]    |   Unzipping corpora/wordnet_ic.zip.\n",
            "[nltk_data]    | Downloading package words to /root/nltk_data...\n",
            "[nltk_data]    |   Unzipping corpora/words.zip.\n",
            "[nltk_data]    | Downloading package maxent_ne_chunker to\n",
            "[nltk_data]    |     /root/nltk_data...\n",
            "[nltk_data]    |   Unzipping chunkers/maxent_ne_chunker.zip.\n",
            "[nltk_data]    | Downloading package punkt to /root/nltk_data...\n",
            "[nltk_data]    |   Unzipping tokenizers/punkt.zip.\n",
            "[nltk_data]    | Downloading package snowball_data to\n",
            "[nltk_data]    |     /root/nltk_data...\n",
            "[nltk_data]    | Downloading package averaged_perceptron_tagger to\n",
            "[nltk_data]    |     /root/nltk_data...\n",
            "[nltk_data]    |   Unzipping taggers/averaged_perceptron_tagger.zip.\n",
            "[nltk_data]    | \n",
            "[nltk_data]  Done downloading collection popular\n"
          ]
        },
        {
          "output_type": "execute_result",
          "data": {
            "text/plain": [
              "True"
            ]
          },
          "metadata": {},
          "execution_count": 3
        }
      ],
      "source": [
        "nltk.download('popular')"
      ]
    },
    {
      "cell_type": "markdown",
      "metadata": {
        "id": "bWOvQ-IfrVAT"
      },
      "source": [
        "### **2) Getting Data & Exploratory Data Analysis**"
      ]
    },
    {
      "cell_type": "code",
      "execution_count": null,
      "metadata": {
        "id": "UrTJXcU-UtW3"
      },
      "outputs": [],
      "source": [
        "df=pd.read_csv('/content/Tweets.txt', sep='\\t', names=[\"text\" , \"category\"])"
      ]
    },
    {
      "cell_type": "code",
      "execution_count": null,
      "metadata": {
        "colab": {
          "base_uri": "https://localhost:8080/",
          "height": 424
        },
        "id": "8DSOOPINVAEI",
        "outputId": "1649612d-3109-4a8d-d256-7d2be581296c"
      },
      "outputs": [
        {
          "output_type": "execute_result",
          "data": {
            "text/plain": [
              "                                                   text category\n",
              "0     بعد استقالة رئيس #المحكمة_الدستورية ننتظر استق...      OBJ\n",
              "1     أهنئ الدكتور أحمد جمال الدين، القيادي بحزب مصر...      POS\n",
              "2     البرادعي يستقوى بامريكا مرةاخرى و يرسل عصام ال...      NEG\n",
              "3     #الحرية_والعدالة | شاهد الآن: #ليلة_الاتحادية ...      OBJ\n",
              "4     الوالدة لو اقولها بخاطري حشيشة تضحك بس من اقول...  NEUTRAL\n",
              "...                                                 ...      ...\n",
              "9689  والغاز مش مدعوم يا إنسان؟ وماذا عن الأسمنت وال...      NEG\n",
              "9690  اغلاق كل الساحات والميادين الكبرى لمنع صلاة ال...      NEG\n",
              "9691  #الشروق \"الداخلية\": 400 ألف مواطن تقدموا لأداء...      OBJ\n",
              "9692      #هتحبك_لو صحتها من النوم علشان تقولها بحبك ;)      POS\n",
              "9693     كل شى كتبته غلط كل شى حسبته غلط فى #الامتحانات      NEG\n",
              "\n",
              "[9694 rows x 2 columns]"
            ],
            "text/html": [
              "\n",
              "  <div id=\"df-e7d35c28-c135-4684-b1df-5a461e280922\">\n",
              "    <div class=\"colab-df-container\">\n",
              "      <div>\n",
              "<style scoped>\n",
              "    .dataframe tbody tr th:only-of-type {\n",
              "        vertical-align: middle;\n",
              "    }\n",
              "\n",
              "    .dataframe tbody tr th {\n",
              "        vertical-align: top;\n",
              "    }\n",
              "\n",
              "    .dataframe thead th {\n",
              "        text-align: right;\n",
              "    }\n",
              "</style>\n",
              "<table border=\"1\" class=\"dataframe\">\n",
              "  <thead>\n",
              "    <tr style=\"text-align: right;\">\n",
              "      <th></th>\n",
              "      <th>text</th>\n",
              "      <th>category</th>\n",
              "    </tr>\n",
              "  </thead>\n",
              "  <tbody>\n",
              "    <tr>\n",
              "      <th>0</th>\n",
              "      <td>بعد استقالة رئيس #المحكمة_الدستورية ننتظر استق...</td>\n",
              "      <td>OBJ</td>\n",
              "    </tr>\n",
              "    <tr>\n",
              "      <th>1</th>\n",
              "      <td>أهنئ الدكتور أحمد جمال الدين، القيادي بحزب مصر...</td>\n",
              "      <td>POS</td>\n",
              "    </tr>\n",
              "    <tr>\n",
              "      <th>2</th>\n",
              "      <td>البرادعي يستقوى بامريكا مرةاخرى و يرسل عصام ال...</td>\n",
              "      <td>NEG</td>\n",
              "    </tr>\n",
              "    <tr>\n",
              "      <th>3</th>\n",
              "      <td>#الحرية_والعدالة | شاهد الآن: #ليلة_الاتحادية ...</td>\n",
              "      <td>OBJ</td>\n",
              "    </tr>\n",
              "    <tr>\n",
              "      <th>4</th>\n",
              "      <td>الوالدة لو اقولها بخاطري حشيشة تضحك بس من اقول...</td>\n",
              "      <td>NEUTRAL</td>\n",
              "    </tr>\n",
              "    <tr>\n",
              "      <th>...</th>\n",
              "      <td>...</td>\n",
              "      <td>...</td>\n",
              "    </tr>\n",
              "    <tr>\n",
              "      <th>9689</th>\n",
              "      <td>والغاز مش مدعوم يا إنسان؟ وماذا عن الأسمنت وال...</td>\n",
              "      <td>NEG</td>\n",
              "    </tr>\n",
              "    <tr>\n",
              "      <th>9690</th>\n",
              "      <td>اغلاق كل الساحات والميادين الكبرى لمنع صلاة ال...</td>\n",
              "      <td>NEG</td>\n",
              "    </tr>\n",
              "    <tr>\n",
              "      <th>9691</th>\n",
              "      <td>#الشروق \"الداخلية\": 400 ألف مواطن تقدموا لأداء...</td>\n",
              "      <td>OBJ</td>\n",
              "    </tr>\n",
              "    <tr>\n",
              "      <th>9692</th>\n",
              "      <td>#هتحبك_لو صحتها من النوم علشان تقولها بحبك ;)</td>\n",
              "      <td>POS</td>\n",
              "    </tr>\n",
              "    <tr>\n",
              "      <th>9693</th>\n",
              "      <td>كل شى كتبته غلط كل شى حسبته غلط فى #الامتحانات</td>\n",
              "      <td>NEG</td>\n",
              "    </tr>\n",
              "  </tbody>\n",
              "</table>\n",
              "<p>9694 rows × 2 columns</p>\n",
              "</div>\n",
              "      <button class=\"colab-df-convert\" onclick=\"convertToInteractive('df-e7d35c28-c135-4684-b1df-5a461e280922')\"\n",
              "              title=\"Convert this dataframe to an interactive table.\"\n",
              "              style=\"display:none;\">\n",
              "        \n",
              "  <svg xmlns=\"http://www.w3.org/2000/svg\" height=\"24px\"viewBox=\"0 0 24 24\"\n",
              "       width=\"24px\">\n",
              "    <path d=\"M0 0h24v24H0V0z\" fill=\"none\"/>\n",
              "    <path d=\"M18.56 5.44l.94 2.06.94-2.06 2.06-.94-2.06-.94-.94-2.06-.94 2.06-2.06.94zm-11 1L8.5 8.5l.94-2.06 2.06-.94-2.06-.94L8.5 2.5l-.94 2.06-2.06.94zm10 10l.94 2.06.94-2.06 2.06-.94-2.06-.94-.94-2.06-.94 2.06-2.06.94z\"/><path d=\"M17.41 7.96l-1.37-1.37c-.4-.4-.92-.59-1.43-.59-.52 0-1.04.2-1.43.59L10.3 9.45l-7.72 7.72c-.78.78-.78 2.05 0 2.83L4 21.41c.39.39.9.59 1.41.59.51 0 1.02-.2 1.41-.59l7.78-7.78 2.81-2.81c.8-.78.8-2.07 0-2.86zM5.41 20L4 18.59l7.72-7.72 1.47 1.35L5.41 20z\"/>\n",
              "  </svg>\n",
              "      </button>\n",
              "      \n",
              "  <style>\n",
              "    .colab-df-container {\n",
              "      display:flex;\n",
              "      flex-wrap:wrap;\n",
              "      gap: 12px;\n",
              "    }\n",
              "\n",
              "    .colab-df-convert {\n",
              "      background-color: #E8F0FE;\n",
              "      border: none;\n",
              "      border-radius: 50%;\n",
              "      cursor: pointer;\n",
              "      display: none;\n",
              "      fill: #1967D2;\n",
              "      height: 32px;\n",
              "      padding: 0 0 0 0;\n",
              "      width: 32px;\n",
              "    }\n",
              "\n",
              "    .colab-df-convert:hover {\n",
              "      background-color: #E2EBFA;\n",
              "      box-shadow: 0px 1px 2px rgba(60, 64, 67, 0.3), 0px 1px 3px 1px rgba(60, 64, 67, 0.15);\n",
              "      fill: #174EA6;\n",
              "    }\n",
              "\n",
              "    [theme=dark] .colab-df-convert {\n",
              "      background-color: #3B4455;\n",
              "      fill: #D2E3FC;\n",
              "    }\n",
              "\n",
              "    [theme=dark] .colab-df-convert:hover {\n",
              "      background-color: #434B5C;\n",
              "      box-shadow: 0px 1px 3px 1px rgba(0, 0, 0, 0.15);\n",
              "      filter: drop-shadow(0px 1px 2px rgba(0, 0, 0, 0.3));\n",
              "      fill: #FFFFFF;\n",
              "    }\n",
              "  </style>\n",
              "\n",
              "      <script>\n",
              "        const buttonEl =\n",
              "          document.querySelector('#df-e7d35c28-c135-4684-b1df-5a461e280922 button.colab-df-convert');\n",
              "        buttonEl.style.display =\n",
              "          google.colab.kernel.accessAllowed ? 'block' : 'none';\n",
              "\n",
              "        async function convertToInteractive(key) {\n",
              "          const element = document.querySelector('#df-e7d35c28-c135-4684-b1df-5a461e280922');\n",
              "          const dataTable =\n",
              "            await google.colab.kernel.invokeFunction('convertToInteractive',\n",
              "                                                     [key], {});\n",
              "          if (!dataTable) return;\n",
              "\n",
              "          const docLinkHtml = 'Like what you see? Visit the ' +\n",
              "            '<a target=\"_blank\" href=https://colab.research.google.com/notebooks/data_table.ipynb>data table notebook</a>'\n",
              "            + ' to learn more about interactive tables.';\n",
              "          element.innerHTML = '';\n",
              "          dataTable['output_type'] = 'display_data';\n",
              "          await google.colab.output.renderOutput(dataTable, element);\n",
              "          const docLink = document.createElement('div');\n",
              "          docLink.innerHTML = docLinkHtml;\n",
              "          element.appendChild(docLink);\n",
              "        }\n",
              "      </script>\n",
              "    </div>\n",
              "  </div>\n",
              "  "
            ]
          },
          "metadata": {},
          "execution_count": 57
        }
      ],
      "source": [
        "df"
      ]
    },
    {
      "cell_type": "code",
      "execution_count": null,
      "metadata": {
        "colab": {
          "base_uri": "https://localhost:8080/"
        },
        "id": "Ly9jBbPJVJzA",
        "outputId": "db23f0e3-4d84-4bf8-eab4-a818323defb6"
      },
      "outputs": [
        {
          "output_type": "stream",
          "name": "stdout",
          "text": [
            "<class 'pandas.core.frame.DataFrame'>\n",
            "RangeIndex: 9694 entries, 0 to 9693\n",
            "Data columns (total 2 columns):\n",
            " #   Column    Non-Null Count  Dtype \n",
            "---  ------    --------------  ----- \n",
            " 0   text      9694 non-null   object\n",
            " 1   category  9694 non-null   object\n",
            "dtypes: object(2)\n",
            "memory usage: 151.6+ KB\n"
          ]
        }
      ],
      "source": [
        "df.info()"
      ]
    },
    {
      "cell_type": "code",
      "execution_count": null,
      "metadata": {
        "colab": {
          "base_uri": "https://localhost:8080/"
        },
        "id": "c3dLVgs136DS",
        "outputId": "d15ac68b-c328-4368-8dca-a8239ac7e791"
      },
      "outputs": [
        {
          "output_type": "execute_result",
          "data": {
            "text/plain": [
              "OBJ        6470\n",
              "NEG        1642\n",
              "NEUTRAL     805\n",
              "POS         777\n",
              "Name: category, dtype: int64"
            ]
          },
          "metadata": {},
          "execution_count": 59
        }
      ],
      "source": [
        "y=df['category']\n",
        "y.value_counts()\n"
      ]
    },
    {
      "cell_type": "code",
      "execution_count": null,
      "metadata": {
        "colab": {
          "base_uri": "https://localhost:8080/",
          "height": 279
        },
        "id": "fuTPHsSy4Dz5",
        "outputId": "b0eb39ca-76ef-42c1-defa-33d1e27f6ef1"
      },
      "outputs": [
        {
          "output_type": "display_data",
          "data": {
            "text/plain": [
              "<Figure size 432x288 with 1 Axes>"
            ],
            "image/png": "[encoded data removed]"
          },
          "metadata": {
            "needs_background": "light"
          }
        }
      ],
      "source": [
        "sns.countplot(data= df, x = \"category\")\n",
        "plt.show()"
      ]
    },
    {
      "cell_type": "code",
      "execution_count": null,
      "metadata": {
        "colab": {
          "base_uri": "https://localhost:8080/"
        },
        "id": "6pgqXzwu4aY1",
        "outputId": "1d3cd6b5-05ed-4997-b11b-4ec5bf3f2a7f"
      },
      "outputs": [
        {
          "output_type": "execute_result",
          "data": {
            "text/plain": [
              "text        0\n",
              "category    0\n",
              "dtype: int64"
            ]
          },
          "metadata": {},
          "execution_count": 61
        }
      ],
      "source": [
        "df.isna().sum()"
      ]
    },
    {
      "cell_type": "code",
      "execution_count": null,
      "metadata": {
        "colab": {
          "base_uri": "https://localhost:8080/"
        },
        "id": "0xSCUe9P4xV4",
        "outputId": "bf64e584-ead9-4983-e8a8-d72ccb32b6a1"
      },
      "outputs": [
        {
          "output_type": "execute_result",
          "data": {
            "text/plain": [
              "4"
            ]
          },
          "metadata": {},
          "execution_count": 62
        }
      ],
      "source": [
        "df.duplicated().sum()"
      ]
    },
    {
      "cell_type": "code",
      "execution_count": null,
      "metadata": {
        "colab": {
          "base_uri": "https://localhost:8080/"
        },
        "id": "_a3Zgiq144T_",
        "outputId": "7aaca115-a94f-4fd7-dd5f-5a1beaf788ab"
      },
      "outputs": [
        {
          "output_type": "execute_result",
          "data": {
            "text/plain": [
              "array(['OBJ', 'POS', 'NEG', 'NEUTRAL'], dtype=object)"
            ]
          },
          "metadata": {},
          "execution_count": 63
        }
      ],
      "source": [
        "df['category'].unique()"
      ]
    },
    {
      "cell_type": "code",
      "execution_count": null,
      "metadata": {
        "id": "HaGmDM2w5bSu"
      },
      "outputs": [],
      "source": [
        "#label encoder (encoding the category coulumn )\n",
        "label_encoder = preprocessing.LabelEncoder()\n",
        "df['category']=label_encoder.fit_transform(df['category'])\n"
      ]
    },
    {
      "cell_type": "code",
      "execution_count": null,
      "metadata": {
        "colab": {
          "base_uri": "https://localhost:8080/"
        },
        "id": "qHs-tO9K8sXx",
        "outputId": "f91f0887-168a-4699-b3d2-6a7a163ae06d"
      },
      "outputs": [
        {
          "output_type": "execute_result",
          "data": {
            "text/plain": [
              "array([2, 3, 0, 1])"
            ]
          },
          "metadata": {},
          "execution_count": 65
        }
      ],
      "source": [
        "#POS=3 , NEG=0 , OBJ=2 , NEUTRAL=1\n",
        "df['category'].unique()\n"
      ]
    },
    {
      "cell_type": "code",
      "execution_count": null,
      "metadata": {
        "colab": {
          "base_uri": "https://localhost:8080/",
          "height": 424
        },
        "id": "MwCrSoo48-QL",
        "outputId": "2a2b23a2-d391-4168-ea0d-3bb158113123"
      },
      "outputs": [
        {
          "output_type": "execute_result",
          "data": {
            "text/plain": [
              "                                                   text  category\n",
              "0     بعد استقالة رئيس #المحكمة_الدستورية ننتظر استق...         2\n",
              "1     أهنئ الدكتور أحمد جمال الدين، القيادي بحزب مصر...         3\n",
              "2     البرادعي يستقوى بامريكا مرةاخرى و يرسل عصام ال...         0\n",
              "3     #الحرية_والعدالة | شاهد الآن: #ليلة_الاتحادية ...         2\n",
              "4     الوالدة لو اقولها بخاطري حشيشة تضحك بس من اقول...         1\n",
              "...                                                 ...       ...\n",
              "9689  والغاز مش مدعوم يا إنسان؟ وماذا عن الأسمنت وال...         0\n",
              "9690  اغلاق كل الساحات والميادين الكبرى لمنع صلاة ال...         0\n",
              "9691  #الشروق \"الداخلية\": 400 ألف مواطن تقدموا لأداء...         2\n",
              "9692      #هتحبك_لو صحتها من النوم علشان تقولها بحبك ;)         3\n",
              "9693     كل شى كتبته غلط كل شى حسبته غلط فى #الامتحانات         0\n",
              "\n",
              "[9694 rows x 2 columns]"
            ],
            "text/html": [
              "\n",
              "  <div id=\"df-a4b7b43e-5ed9-4dcf-9e4f-706d35085afa\">\n",
              "    <div class=\"colab-df-container\">\n",
              "      <div>\n",
              "<style scoped>\n",
              "    .dataframe tbody tr th:only-of-type {\n",
              "        vertical-align: middle;\n",
              "    }\n",
              "\n",
              "    .dataframe tbody tr th {\n",
              "        vertical-align: top;\n",
              "    }\n",
              "\n",
              "    .dataframe thead th {\n",
              "        text-align: right;\n",
              "    }\n",
              "</style>\n",
              "<table border=\"1\" class=\"dataframe\">\n",
              "  <thead>\n",
              "    <tr style=\"text-align: right;\">\n",
              "      <th></th>\n",
              "      <th>text</th>\n",
              "      <th>category</th>\n",
              "    </tr>\n",
              "  </thead>\n",
              "  <tbody>\n",
              "    <tr>\n",
              "      <th>0</th>\n",
              "      <td>بعد استقالة رئيس #المحكمة_الدستورية ننتظر استق...</td>\n",
              "      <td>2</td>\n",
              "    </tr>\n",
              "    <tr>\n",
              "      <th>1</th>\n",
              "      <td>أهنئ الدكتور أحمد جمال الدين، القيادي بحزب مصر...</td>\n",
              "      <td>3</td>\n",
              "    </tr>\n",
              "    <tr>\n",
              "      <th>2</th>\n",
              "      <td>البرادعي يستقوى بامريكا مرةاخرى و يرسل عصام ال...</td>\n",
              "      <td>0</td>\n",
              "    </tr>\n",
              "    <tr>\n",
              "      <th>3</th>\n",
              "      <td>#الحرية_والعدالة | شاهد الآن: #ليلة_الاتحادية ...</td>\n",
              "      <td>2</td>\n",
              "    </tr>\n",
              "    <tr>\n",
              "      <th>4</th>\n",
              "      <td>الوالدة لو اقولها بخاطري حشيشة تضحك بس من اقول...</td>\n",
              "      <td>1</td>\n",
              "    </tr>\n",
              "    <tr>\n",
              "      <th>...</th>\n",
              "      <td>...</td>\n",
              "      <td>...</td>\n",
              "    </tr>\n",
              "    <tr>\n",
              "      <th>9689</th>\n",
              "      <td>والغاز مش مدعوم يا إنسان؟ وماذا عن الأسمنت وال...</td>\n",
              "      <td>0</td>\n",
              "    </tr>\n",
              "    <tr>\n",
              "      <th>9690</th>\n",
              "      <td>اغلاق كل الساحات والميادين الكبرى لمنع صلاة ال...</td>\n",
              "      <td>0</td>\n",
              "    </tr>\n",
              "    <tr>\n",
              "      <th>9691</th>\n",
              "      <td>#الشروق \"الداخلية\": 400 ألف مواطن تقدموا لأداء...</td>\n",
              "      <td>2</td>\n",
              "    </tr>\n",
              "    <tr>\n",
              "      <th>9692</th>\n",
              "      <td>#هتحبك_لو صحتها من النوم علشان تقولها بحبك ;)</td>\n",
              "      <td>3</td>\n",
              "    </tr>\n",
              "    <tr>\n",
              "      <th>9693</th>\n",
              "      <td>كل شى كتبته غلط كل شى حسبته غلط فى #الامتحانات</td>\n",
              "      <td>0</td>\n",
              "    </tr>\n",
              "  </tbody>\n",
              "</table>\n",
              "<p>9694 rows × 2 columns</p>\n",
              "</div>\n",
              "      <button class=\"colab-df-convert\" onclick=\"convertToInteractive('df-a4b7b43e-5ed9-4dcf-9e4f-706d35085afa')\"\n",
              "              title=\"Convert this dataframe to an interactive table.\"\n",
              "              style=\"display:none;\">\n",
              "        \n",
              "  <svg xmlns=\"http://www.w3.org/2000/svg\" height=\"24px\"viewBox=\"0 0 24 24\"\n",
              "       width=\"24px\">\n",
              "    <path d=\"M0 0h24v24H0V0z\" fill=\"none\"/>\n",
              "    <path d=\"M18.56 5.44l.94 2.06.94-2.06 2.06-.94-2.06-.94-.94-2.06-.94 2.06-2.06.94zm-11 1L8.5 8.5l.94-2.06 2.06-.94-2.06-.94L8.5 2.5l-.94 2.06-2.06.94zm10 10l.94 2.06.94-2.06 2.06-.94-2.06-.94-.94-2.06-.94 2.06-2.06.94z\"/><path d=\"M17.41 7.96l-1.37-1.37c-.4-.4-.92-.59-1.43-.59-.52 0-1.04.2-1.43.59L10.3 9.45l-7.72 7.72c-.78.78-.78 2.05 0 2.83L4 21.41c.39.39.9.59 1.41.59.51 0 1.02-.2 1.41-.59l7.78-7.78 2.81-2.81c.8-.78.8-2.07 0-2.86zM5.41 20L4 18.59l7.72-7.72 1.47 1.35L5.41 20z\"/>\n",
              "  </svg>\n",
              "      </button>\n",
              "      \n",
              "  <style>\n",
              "    .colab-df-container {\n",
              "      display:flex;\n",
              "      flex-wrap:wrap;\n",
              "      gap: 12px;\n",
              "    }\n",
              "\n",
              "    .colab-df-convert {\n",
              "      background-color: #E8F0FE;\n",
              "      border: none;\n",
              "      border-radius: 50%;\n",
              "      cursor: pointer;\n",
              "      display: none;\n",
              "      fill: #1967D2;\n",
              "      height: 32px;\n",
              "      padding: 0 0 0 0;\n",
              "      width: 32px;\n",
              "    }\n",
              "\n",
              "    .colab-df-convert:hover {\n",
              "      background-color: #E2EBFA;\n",
              "      box-shadow: 0px 1px 2px rgba(60, 64, 67, 0.3), 0px 1px 3px 1px rgba(60, 64, 67, 0.15);\n",
              "      fill: #174EA6;\n",
              "    }\n",
              "\n",
              "    [theme=dark] .colab-df-convert {\n",
              "      background-color: #3B4455;\n",
              "      fill: #D2E3FC;\n",
              "    }\n",
              "\n",
              "    [theme=dark] .colab-df-convert:hover {\n",
              "      background-color: #434B5C;\n",
              "      box-shadow: 0px 1px 3px 1px rgba(0, 0, 0, 0.15);\n",
              "      filter: drop-shadow(0px 1px 2px rgba(0, 0, 0, 0.3));\n",
              "      fill: #FFFFFF;\n",
              "    }\n",
              "  </style>\n",
              "\n",
              "      <script>\n",
              "        const buttonEl =\n",
              "          document.querySelector('#df-a4b7b43e-5ed9-4dcf-9e4f-706d35085afa button.colab-df-convert');\n",
              "        buttonEl.style.display =\n",
              "          google.colab.kernel.accessAllowed ? 'block' : 'none';\n",
              "\n",
              "        async function convertToInteractive(key) {\n",
              "          const element = document.querySelector('#df-a4b7b43e-5ed9-4dcf-9e4f-706d35085afa');\n",
              "          const dataTable =\n",
              "            await google.colab.kernel.invokeFunction('convertToInteractive',\n",
              "                                                     [key], {});\n",
              "          if (!dataTable) return;\n",
              "\n",
              "          const docLinkHtml = 'Like what you see? Visit the ' +\n",
              "            '<a target=\"_blank\" href=https://colab.research.google.com/notebooks/data_table.ipynb>data table notebook</a>'\n",
              "            + ' to learn more about interactive tables.';\n",
              "          element.innerHTML = '';\n",
              "          dataTable['output_type'] = 'display_data';\n",
              "          await google.colab.output.renderOutput(dataTable, element);\n",
              "          const docLink = document.createElement('div');\n",
              "          docLink.innerHTML = docLinkHtml;\n",
              "          element.appendChild(docLink);\n",
              "        }\n",
              "      </script>\n",
              "    </div>\n",
              "  </div>\n",
              "  "
            ]
          },
          "metadata": {},
          "execution_count": 66
        }
      ],
      "source": [
        "df"
      ]
    },
    {
      "cell_type": "markdown",
      "metadata": {
        "id": "R_IE92bb-you"
      },
      "source": [
        "### **3) Text Cleaning**"
      ]
    },
    {
      "cell_type": "code",
      "execution_count": null,
      "metadata": {
        "id": "RneLNb0o9TlB"
      },
      "outputs": [],
      "source": [
        "\n",
        "#remove stop_words\n",
        "\n",
        "stop_words = stopwords.words('arabic')\n",
        "\n",
        "def remove_stopwords(text):\n",
        "  return \" \".join([word for word in text.split(\" \") if word not in stop_words])\n",
        "\n",
        "\n",
        "#remove Hashtages-----------------------------------------------------------------------\n",
        "hashtages = re.compile(pattern=\"#[\\w\\d]+\")\n",
        "def remove_hashtages(text):\n",
        "  return hashtages.sub(repl=\"\", string=text)\n",
        "\n",
        "#remove mentions -----------------------------------------------------------------------\n",
        "mensions = re.compile('@\\w+')\n",
        "def remove_mentions(text):\n",
        "  return mensions.sub(repl=\"\", string=text)\n",
        "\n",
        "#remove Punctuations Mark---------------------------------------------------------------\n",
        "punctuation_marks = re.compile(r\"\"\"[!\"#$%&\\'()*+,-./:;<=>?@[\\\\\\]^_`{|}~،؟…«“\\\":\\\"…”]\"\"\")\n",
        "\n",
        "def remove_punch_marks(text):\n",
        "  return punctuation_marks.sub(repl=\"\", string=text)\n",
        "\n",
        "#Remove HTTP URLs------------------------------------------------------------------------\n",
        "def remove_url(text):\n",
        "  return re.sub('((www\\.[^\\s]+)|(https?://[^\\s]+))', ' ', text)\n",
        "\n",
        "#Remove Numbers--------------------------------------------------------------------------\n",
        "numbers = re.compile('\\d+')\n",
        "def remove_numbers(text):\n",
        "  return numbers.sub(repl=\"\", string=text)\n",
        "\n",
        "#Remove Multiple Whitespaces-------------------------------------------------------------\n",
        "multiple_whitespace = re.compile('\\s{2,}')\n",
        "\n",
        "def remove_whitespace(text):\n",
        "  return multiple_whitespace.sub(repl=\" \", string=text)\n",
        "\n",
        "#Remove repeating char-------------------------------------------------------------------\n",
        "def remove_repeating_char(text):\n",
        "    return re.sub(r'(.)\\1+', r'\\1', text)\n",
        "\n",
        "#Lemmatization---------------------------------------------------------------------------\n",
        "def lemmatization(text):\n",
        "  lemmatizer = WordNetLemmatizer()\n",
        "  words_tokenizes = nltk.word_tokenize(text)\n",
        "  lemmatized_string = \" \".join([lemmatizer.lemmatize(word) for word in words_tokenizes])\n",
        "  return lemmatized_string\n",
        "\n",
        "#Stemming--------------------------------------------------------------------------------\n",
        "def stemmer(text):\n",
        "    stemr = PorterStemmer()\n",
        "    words_tokens = nltk.word_tokenize(text)\n",
        "    stemmer_string = ' '.join([stemr.stem(words) for words in words_tokens])\n",
        "    return stemmer_string\n",
        "\n",
        "#Normalize\n",
        "def normalize_arabic(text):\n",
        "    text = re.sub(\"[إأآا]\", \"ا\", text)\n",
        "    text = re.sub(\"ى\", \"ي\", text)\n",
        "    text = re.sub(\"ة\", \"ه\", text)\n",
        "    text = re.sub(\"گ\", \"ك\", text)\n",
        "    return text\n"
      ]
    },
    {
      "cell_type": "code",
      "source": [
        "def test_clean(function,sample):\n",
        "  print(sample,function(sample), sep='\\n')\n"
      ],
      "metadata": {
        "id": "KBeuw6klR7La"
      },
      "execution_count": null,
      "outputs": []
    },
    {
      "cell_type": "markdown",
      "metadata": {
        "id": "OmilLdlsDgJv"
      },
      "source": [
        " **Remove** **Emoji**"
      ]
    },
    {
      "cell_type": "code",
      "execution_count": null,
      "metadata": {
        "colab": {
          "base_uri": "https://localhost:8080/"
        },
        "id": "KRIXgSECEBON",
        "outputId": "7063f5e3-fc4b-40f8-cd54-b84521a0e374"
      },
      "outputs": [
        {
          "output_type": "stream",
          "name": "stdout",
          "text": [
            "Looking in indexes: https://pypi.org/simple, https://us-python.pkg.dev/colab-wheels/public/simple/\n",
            "Requirement already satisfied: demoji in /usr/local/lib/python3.8/dist-packages (1.1.0)\n"
          ]
        }
      ],
      "source": [
        "!pip install demoji"
      ]
    },
    {
      "cell_type": "code",
      "execution_count": null,
      "metadata": {
        "id": "XHWAI43xDesr"
      },
      "outputs": [],
      "source": [
        "import demoji\n",
        "demoji.download_codes()"
      ]
    },
    {
      "cell_type": "code",
      "execution_count": null,
      "metadata": {
        "id": "-mmIv6xpD-n5"
      },
      "outputs": [],
      "source": [
        "def remove_emoji(text):\n",
        "  dem = demoji.findall(text)\n",
        "  for item in dem.keys():\n",
        "    text = text.replace(item, '')\n",
        "  return text\n",
        "\n"
      ]
    },
    {
      "cell_type": "markdown",
      "metadata": {
        "id": "vF-8A-Ul2Rg-"
      },
      "source": [
        " **Clean** **all**"
      ]
    },
    {
      "cell_type": "code",
      "execution_count": null,
      "metadata": {
        "id": "8V1v7GhQ2RDQ"
      },
      "outputs": [],
      "source": [
        "\n",
        "def clean_all(text):\n",
        "  text = remove_url(text)\n",
        "  text = remove_hashtages(text)\n",
        "  text = remove_mentions(text)\n",
        "  text = remove_punch_marks(text)\n",
        "  text = remove_numbers(text)\n",
        "  text = remove_stopwords(text)\n",
        "  text = remove_whitespace(text)\n",
        "  text = remove_emoji(text)\n",
        "  text = normalize_arabic(text)\n",
        "  text = remove_repeating_char(text)\n",
        "\n",
        " # text = lemmatization(text)\n",
        " # text = stemmer(text) \n",
        "  return text\n",
        "\n"
      ]
    },
    {
      "cell_type": "code",
      "execution_count": null,
      "metadata": {
        "colab": {
          "base_uri": "https://localhost:8080/",
          "height": 424
        },
        "id": "unYjNmo0xUd7",
        "outputId": "405ea1bb-2edb-4760-b0aa-7a68c7152dfe"
      },
      "outputs": [
        {
          "output_type": "execute_result",
          "data": {
            "text/plain": [
              "                                                   text  category\n",
              "0                            استقاله رئيس نتظر استقاله          2\n",
              "1     اهنئ الدكتور احمد جمال الدين القيادي بحزب مصر ...         3\n",
              "2     البرادعي يستقوي بامريكا مرهاخري يرسل عصام العر...         0\n",
              "3      شاهد فيلم استقصائي يتناول اسرار كواليس تعرض ل...         2\n",
              "4     الوالده اقولها بخاطري حشيشه تضحك اقولها مل اله...         1\n",
              "...                                                 ...       ...\n",
              "9689  والغاز مش مدعوم انسان وماذا الاسمنت والحديد وا...         0\n",
              "9690  اغلاق الساحات والميادين الكبري لمنع صلاه العيد...         0\n",
              "9691   الداخليه مواطن تقدموا لاداء الحج وبدء اجراء ا...         2\n",
              "9692                     صحتها النوم علشان تقولها بحبك          3\n",
              "9693                      شي كتبته غلط شي حسبته غلط في          0\n",
              "\n",
              "[9694 rows x 2 columns]"
            ],
            "text/html": [
              "\n",
              "  <div id=\"df-96b91030-38c1-43b9-8fac-a8e2b74c9875\">\n",
              "    <div class=\"colab-df-container\">\n",
              "      <div>\n",
              "<style scoped>\n",
              "    .dataframe tbody tr th:only-of-type {\n",
              "        vertical-align: middle;\n",
              "    }\n",
              "\n",
              "    .dataframe tbody tr th {\n",
              "        vertical-align: top;\n",
              "    }\n",
              "\n",
              "    .dataframe thead th {\n",
              "        text-align: right;\n",
              "    }\n",
              "</style>\n",
              "<table border=\"1\" class=\"dataframe\">\n",
              "  <thead>\n",
              "    <tr style=\"text-align: right;\">\n",
              "      <th></th>\n",
              "      <th>text</th>\n",
              "      <th>category</th>\n",
              "    </tr>\n",
              "  </thead>\n",
              "  <tbody>\n",
              "    <tr>\n",
              "      <th>0</th>\n",
              "      <td>استقاله رئيس نتظر استقاله</td>\n",
              "      <td>2</td>\n",
              "    </tr>\n",
              "    <tr>\n",
              "      <th>1</th>\n",
              "      <td>اهنئ الدكتور احمد جمال الدين القيادي بحزب مصر ...</td>\n",
              "      <td>3</td>\n",
              "    </tr>\n",
              "    <tr>\n",
              "      <th>2</th>\n",
              "      <td>البرادعي يستقوي بامريكا مرهاخري يرسل عصام العر...</td>\n",
              "      <td>0</td>\n",
              "    </tr>\n",
              "    <tr>\n",
              "      <th>3</th>\n",
              "      <td>شاهد فيلم استقصائي يتناول اسرار كواليس تعرض ل...</td>\n",
              "      <td>2</td>\n",
              "    </tr>\n",
              "    <tr>\n",
              "      <th>4</th>\n",
              "      <td>الوالده اقولها بخاطري حشيشه تضحك اقولها مل اله...</td>\n",
              "      <td>1</td>\n",
              "    </tr>\n",
              "    <tr>\n",
              "      <th>...</th>\n",
              "      <td>...</td>\n",
              "      <td>...</td>\n",
              "    </tr>\n",
              "    <tr>\n",
              "      <th>9689</th>\n",
              "      <td>والغاز مش مدعوم انسان وماذا الاسمنت والحديد وا...</td>\n",
              "      <td>0</td>\n",
              "    </tr>\n",
              "    <tr>\n",
              "      <th>9690</th>\n",
              "      <td>اغلاق الساحات والميادين الكبري لمنع صلاه العيد...</td>\n",
              "      <td>0</td>\n",
              "    </tr>\n",
              "    <tr>\n",
              "      <th>9691</th>\n",
              "      <td>الداخليه مواطن تقدموا لاداء الحج وبدء اجراء ا...</td>\n",
              "      <td>2</td>\n",
              "    </tr>\n",
              "    <tr>\n",
              "      <th>9692</th>\n",
              "      <td>صحتها النوم علشان تقولها بحبك</td>\n",
              "      <td>3</td>\n",
              "    </tr>\n",
              "    <tr>\n",
              "      <th>9693</th>\n",
              "      <td>شي كتبته غلط شي حسبته غلط في</td>\n",
              "      <td>0</td>\n",
              "    </tr>\n",
              "  </tbody>\n",
              "</table>\n",
              "<p>9694 rows × 2 columns</p>\n",
              "</div>\n",
              "      <button class=\"colab-df-convert\" onclick=\"convertToInteractive('df-96b91030-38c1-43b9-8fac-a8e2b74c9875')\"\n",
              "              title=\"Convert this dataframe to an interactive table.\"\n",
              "              style=\"display:none;\">\n",
              "        \n",
              "  <svg xmlns=\"http://www.w3.org/2000/svg\" height=\"24px\"viewBox=\"0 0 24 24\"\n",
              "       width=\"24px\">\n",
              "    <path d=\"M0 0h24v24H0V0z\" fill=\"none\"/>\n",
              "    <path d=\"M18.56 5.44l.94 2.06.94-2.06 2.06-.94-2.06-.94-.94-2.06-.94 2.06-2.06.94zm-11 1L8.5 8.5l.94-2.06 2.06-.94-2.06-.94L8.5 2.5l-.94 2.06-2.06.94zm10 10l.94 2.06.94-2.06 2.06-.94-2.06-.94-.94-2.06-.94 2.06-2.06.94z\"/><path d=\"M17.41 7.96l-1.37-1.37c-.4-.4-.92-.59-1.43-.59-.52 0-1.04.2-1.43.59L10.3 9.45l-7.72 7.72c-.78.78-.78 2.05 0 2.83L4 21.41c.39.39.9.59 1.41.59.51 0 1.02-.2 1.41-.59l7.78-7.78 2.81-2.81c.8-.78.8-2.07 0-2.86zM5.41 20L4 18.59l7.72-7.72 1.47 1.35L5.41 20z\"/>\n",
              "  </svg>\n",
              "      </button>\n",
              "      \n",
              "  <style>\n",
              "    .colab-df-container {\n",
              "      display:flex;\n",
              "      flex-wrap:wrap;\n",
              "      gap: 12px;\n",
              "    }\n",
              "\n",
              "    .colab-df-convert {\n",
              "      background-color: #E8F0FE;\n",
              "      border: none;\n",
              "      border-radius: 50%;\n",
              "      cursor: pointer;\n",
              "      display: none;\n",
              "      fill: #1967D2;\n",
              "      height: 32px;\n",
              "      padding: 0 0 0 0;\n",
              "      width: 32px;\n",
              "    }\n",
              "\n",
              "    .colab-df-convert:hover {\n",
              "      background-color: #E2EBFA;\n",
              "      box-shadow: 0px 1px 2px rgba(60, 64, 67, 0.3), 0px 1px 3px 1px rgba(60, 64, 67, 0.15);\n",
              "      fill: #174EA6;\n",
              "    }\n",
              "\n",
              "    [theme=dark] .colab-df-convert {\n",
              "      background-color: #3B4455;\n",
              "      fill: #D2E3FC;\n",
              "    }\n",
              "\n",
              "    [theme=dark] .colab-df-convert:hover {\n",
              "      background-color: #434B5C;\n",
              "      box-shadow: 0px 1px 3px 1px rgba(0, 0, 0, 0.15);\n",
              "      filter: drop-shadow(0px 1px 2px rgba(0, 0, 0, 0.3));\n",
              "      fill: #FFFFFF;\n",
              "    }\n",
              "  </style>\n",
              "\n",
              "      <script>\n",
              "        const buttonEl =\n",
              "          document.querySelector('#df-96b91030-38c1-43b9-8fac-a8e2b74c9875 button.colab-df-convert');\n",
              "        buttonEl.style.display =\n",
              "          google.colab.kernel.accessAllowed ? 'block' : 'none';\n",
              "\n",
              "        async function convertToInteractive(key) {\n",
              "          const element = document.querySelector('#df-96b91030-38c1-43b9-8fac-a8e2b74c9875');\n",
              "          const dataTable =\n",
              "            await google.colab.kernel.invokeFunction('convertToInteractive',\n",
              "                                                     [key], {});\n",
              "          if (!dataTable) return;\n",
              "\n",
              "          const docLinkHtml = 'Like what you see? Visit the ' +\n",
              "            '<a target=\"_blank\" href=https://colab.research.google.com/notebooks/data_table.ipynb>data table notebook</a>'\n",
              "            + ' to learn more about interactive tables.';\n",
              "          element.innerHTML = '';\n",
              "          dataTable['output_type'] = 'display_data';\n",
              "          await google.colab.output.renderOutput(dataTable, element);\n",
              "          const docLink = document.createElement('div');\n",
              "          docLink.innerHTML = docLinkHtml;\n",
              "          element.appendChild(docLink);\n",
              "        }\n",
              "      </script>\n",
              "    </div>\n",
              "  </div>\n",
              "  "
            ]
          },
          "metadata": {},
          "execution_count": 73
        }
      ],
      "source": [
        "clean_text = []\n",
        "\n",
        "for text in df['text']:\n",
        "  new_data = clean_all(text)\n",
        "  clean_text.append(new_data)\n",
        "\n",
        "clean_df = pd.DataFrame({'text':clean_text, 'category':df['category']})\n",
        "clean_df"
      ]
    },
    {
      "cell_type": "code",
      "execution_count": null,
      "metadata": {
        "colab": {
          "base_uri": "https://localhost:8080/"
        },
        "id": "rhoAn4yv0AFF",
        "outputId": "09536a73-a079-4b9c-944e-6637d9e13f11"
      },
      "outputs": [
        {
          "output_type": "execute_result",
          "data": {
            "text/plain": [
              "0                           استقاله رئيس نتظر استقاله \n",
              "1    اهنئ الدكتور احمد جمال الدين القيادي بحزب مصر ...\n",
              "2    البرادعي يستقوي بامريكا مرهاخري يرسل عصام العر...\n",
              "3     شاهد فيلم استقصائي يتناول اسرار كواليس تعرض ل...\n",
              "4    الوالده اقولها بخاطري حشيشه تضحك اقولها مل اله...\n",
              "5                                                     \n",
              "6                 امير عيد الي فعلا يتقال ستريكر صريح \n",
              "7    احكي قصه حدثت شاب الفتيات بينهم حب كبير حدثت غ...\n",
              "8    ادعوكم لحضور الندوه الثقافيه الاربعاء مركز اعد...\n",
              "9    عوده جماعه الاخوان الحياه السياسيه بنفس وضعها ...\n",
              "Name: text, dtype: object"
            ]
          },
          "metadata": {},
          "execution_count": 74
        }
      ],
      "source": [
        "clean_df[\"text\"].head(10)"
      ]
    },
    {
      "cell_type": "markdown",
      "metadata": {
        "id": "JnZxqH0_1vLN"
      },
      "source": [
        "## **4)Text** **information**"
      ]
    },
    {
      "cell_type": "code",
      "execution_count": null,
      "metadata": {
        "colab": {
          "base_uri": "https://localhost:8080/"
        },
        "id": "9M140VFo1xBv",
        "outputId": "4e005f02-5741-4498-eeea-72b44ec12bc4"
      },
      "outputs": [
        {
          "output_type": "stream",
          "name": "stdout",
          "text": [
            "600575 words total, with a vocabulary size of 232\n",
            "Max sentence length is 4213\n"
          ]
        }
      ],
      "source": [
        "all_words = [word for tokens in clean_df[\"text\"] for word in tokens]\n",
        "sentence_lengths = [len(tokens) for tokens in clean_df[\"text\"]]\n",
        "\n",
        "VOCAB = sorted(list(set(all_words)))\n",
        "\n",
        "print(\"%s words total, with a vocabulary size of %s\" % (len(all_words), len(VOCAB)))\n",
        "print(\"Max sentence length is %s\" % max(sentence_lengths))"
      ]
    },
    {
      "cell_type": "code",
      "source": [
        "clean_df['text']"
      ],
      "metadata": {
        "colab": {
          "base_uri": "https://localhost:8080/"
        },
        "id": "9Llgt7jLQYXb",
        "outputId": "f218818f-3a40-40c3-af49-0daf496f6dac"
      },
      "execution_count": null,
      "outputs": [
        {
          "output_type": "execute_result",
          "data": {
            "text/plain": [
              "0                              استقاله رئيس نتظر استقاله \n",
              "1       اهنئ الدكتور احمد جمال الدين القيادي بحزب مصر ...\n",
              "2       البرادعي يستقوي بامريكا مرهاخري يرسل عصام العر...\n",
              "3        شاهد فيلم استقصائي يتناول اسرار كواليس تعرض ل...\n",
              "4       الوالده اقولها بخاطري حشيشه تضحك اقولها مل اله...\n",
              "                              ...                        \n",
              "9689    والغاز مش مدعوم انسان وماذا الاسمنت والحديد وا...\n",
              "9690    اغلاق الساحات والميادين الكبري لمنع صلاه العيد...\n",
              "9691     الداخليه مواطن تقدموا لاداء الحج وبدء اجراء ا...\n",
              "9692                       صحتها النوم علشان تقولها بحبك \n",
              "9693                        شي كتبته غلط شي حسبته غلط في \n",
              "Name: text, Length: 9694, dtype: object"
            ]
          },
          "metadata": {},
          "execution_count": 76
        }
      ]
    },
    {
      "cell_type": "markdown",
      "metadata": {
        "id": "MeP2ln8e2ra1"
      },
      "source": [
        "# **5)Save** **cleaned** **data** **for** **training**"
      ]
    },
    {
      "cell_type": "code",
      "execution_count": null,
      "metadata": {
        "id": "cWPDq0SuxUbD"
      },
      "outputs": [],
      "source": [
        "clean_df.to_csv('dL_nlp_cleaned.csv', index=False)"
      ]
    },
    {
      "cell_type": "markdown",
      "source": [
        "# **6**) **Modeling** "
      ],
      "metadata": {
        "id": "vzCIYJAC9JiX"
      }
    },
    {
      "cell_type": "markdown",
      "source": [
        "## Modeling The Clean data with BERT "
      ],
      "metadata": {
        "id": "vuGEF4zg9i6x"
      }
    },
    {
      "cell_type": "code",
      "execution_count": null,
      "metadata": {
        "id": "jKuPT6411CQY"
      },
      "outputs": [],
      "source": [
        "clean_df = pd.read_csv('/content/dL_nlp_cleaned.csv')"
      ]
    },
    {
      "cell_type": "code",
      "source": [
        "clean_df"
      ],
      "metadata": {
        "id": "PngAj5ECEKvc",
        "colab": {
          "base_uri": "https://localhost:8080/",
          "height": 424
        },
        "outputId": "0b5330b2-9b07-4622-f29c-4272536e8571"
      },
      "execution_count": null,
      "outputs": [
        {
          "output_type": "execute_result",
          "data": {
            "text/plain": [
              "                                                   text  category\n",
              "0                            استقاله رئيس نتظر استقاله          2\n",
              "1     اهنئ الدكتور احمد جمال الدين القيادي بحزب مصر ...         3\n",
              "2     البرادعي يستقوي بامريكا مرهاخري يرسل عصام العر...         0\n",
              "3      شاهد فيلم استقصائي يتناول اسرار كواليس تعرض ل...         2\n",
              "4     الوالده اقولها بخاطري حشيشه تضحك اقولها مل اله...         1\n",
              "...                                                 ...       ...\n",
              "9689  والغاز مش مدعوم انسان وماذا الاسمنت والحديد وا...         0\n",
              "9690  اغلاق الساحات والميادين الكبري لمنع صلاه العيد...         0\n",
              "9691   الداخليه مواطن تقدموا لاداء الحج وبدء اجراء ا...         2\n",
              "9692                     صحتها النوم علشان تقولها بحبك          3\n",
              "9693                      شي كتبته غلط شي حسبته غلط في          0\n",
              "\n",
              "[9694 rows x 2 columns]"
            ],
            "text/html": [
              "\n",
              "  <div id=\"df-3033af59-185d-455f-926a-527df8a25874\">\n",
              "    <div class=\"colab-df-container\">\n",
              "      <div>\n",
              "<style scoped>\n",
              "    .dataframe tbody tr th:only-of-type {\n",
              "        vertical-align: middle;\n",
              "    }\n",
              "\n",
              "    .dataframe tbody tr th {\n",
              "        vertical-align: top;\n",
              "    }\n",
              "\n",
              "    .dataframe thead th {\n",
              "        text-align: right;\n",
              "    }\n",
              "</style>\n",
              "<table border=\"1\" class=\"dataframe\">\n",
              "  <thead>\n",
              "    <tr style=\"text-align: right;\">\n",
              "      <th></th>\n",
              "      <th>text</th>\n",
              "      <th>category</th>\n",
              "    </tr>\n",
              "  </thead>\n",
              "  <tbody>\n",
              "    <tr>\n",
              "      <th>0</th>\n",
              "      <td>استقاله رئيس نتظر استقاله</td>\n",
              "      <td>2</td>\n",
              "    </tr>\n",
              "    <tr>\n",
              "      <th>1</th>\n",
              "      <td>اهنئ الدكتور احمد جمال الدين القيادي بحزب مصر ...</td>\n",
              "      <td>3</td>\n",
              "    </tr>\n",
              "    <tr>\n",
              "      <th>2</th>\n",
              "      <td>البرادعي يستقوي بامريكا مرهاخري يرسل عصام العر...</td>\n",
              "      <td>0</td>\n",
              "    </tr>\n",
              "    <tr>\n",
              "      <th>3</th>\n",
              "      <td>شاهد فيلم استقصائي يتناول اسرار كواليس تعرض ل...</td>\n",
              "      <td>2</td>\n",
              "    </tr>\n",
              "    <tr>\n",
              "      <th>4</th>\n",
              "      <td>الوالده اقولها بخاطري حشيشه تضحك اقولها مل اله...</td>\n",
              "      <td>1</td>\n",
              "    </tr>\n",
              "    <tr>\n",
              "      <th>...</th>\n",
              "      <td>...</td>\n",
              "      <td>...</td>\n",
              "    </tr>\n",
              "    <tr>\n",
              "      <th>9689</th>\n",
              "      <td>والغاز مش مدعوم انسان وماذا الاسمنت والحديد وا...</td>\n",
              "      <td>0</td>\n",
              "    </tr>\n",
              "    <tr>\n",
              "      <th>9690</th>\n",
              "      <td>اغلاق الساحات والميادين الكبري لمنع صلاه العيد...</td>\n",
              "      <td>0</td>\n",
              "    </tr>\n",
              "    <tr>\n",
              "      <th>9691</th>\n",
              "      <td>الداخليه مواطن تقدموا لاداء الحج وبدء اجراء ا...</td>\n",
              "      <td>2</td>\n",
              "    </tr>\n",
              "    <tr>\n",
              "      <th>9692</th>\n",
              "      <td>صحتها النوم علشان تقولها بحبك</td>\n",
              "      <td>3</td>\n",
              "    </tr>\n",
              "    <tr>\n",
              "      <th>9693</th>\n",
              "      <td>شي كتبته غلط شي حسبته غلط في</td>\n",
              "      <td>0</td>\n",
              "    </tr>\n",
              "  </tbody>\n",
              "</table>\n",
              "<p>9694 rows × 2 columns</p>\n",
              "</div>\n",
              "      <button class=\"colab-df-convert\" onclick=\"convertToInteractive('df-3033af59-185d-455f-926a-527df8a25874')\"\n",
              "              title=\"Convert this dataframe to an interactive table.\"\n",
              "              style=\"display:none;\">\n",
              "        \n",
              "  <svg xmlns=\"http://www.w3.org/2000/svg\" height=\"24px\"viewBox=\"0 0 24 24\"\n",
              "       width=\"24px\">\n",
              "    <path d=\"M0 0h24v24H0V0z\" fill=\"none\"/>\n",
              "    <path d=\"M18.56 5.44l.94 2.06.94-2.06 2.06-.94-2.06-.94-.94-2.06-.94 2.06-2.06.94zm-11 1L8.5 8.5l.94-2.06 2.06-.94-2.06-.94L8.5 2.5l-.94 2.06-2.06.94zm10 10l.94 2.06.94-2.06 2.06-.94-2.06-.94-.94-2.06-.94 2.06-2.06.94z\"/><path d=\"M17.41 7.96l-1.37-1.37c-.4-.4-.92-.59-1.43-.59-.52 0-1.04.2-1.43.59L10.3 9.45l-7.72 7.72c-.78.78-.78 2.05 0 2.83L4 21.41c.39.39.9.59 1.41.59.51 0 1.02-.2 1.41-.59l7.78-7.78 2.81-2.81c.8-.78.8-2.07 0-2.86zM5.41 20L4 18.59l7.72-7.72 1.47 1.35L5.41 20z\"/>\n",
              "  </svg>\n",
              "      </button>\n",
              "      \n",
              "  <style>\n",
              "    .colab-df-container {\n",
              "      display:flex;\n",
              "      flex-wrap:wrap;\n",
              "      gap: 12px;\n",
              "    }\n",
              "\n",
              "    .colab-df-convert {\n",
              "      background-color: #E8F0FE;\n",
              "      border: none;\n",
              "      border-radius: 50%;\n",
              "      cursor: pointer;\n",
              "      display: none;\n",
              "      fill: #1967D2;\n",
              "      height: 32px;\n",
              "      padding: 0 0 0 0;\n",
              "      width: 32px;\n",
              "    }\n",
              "\n",
              "    .colab-df-convert:hover {\n",
              "      background-color: #E2EBFA;\n",
              "      box-shadow: 0px 1px 2px rgba(60, 64, 67, 0.3), 0px 1px 3px 1px rgba(60, 64, 67, 0.15);\n",
              "      fill: #174EA6;\n",
              "    }\n",
              "\n",
              "    [theme=dark] .colab-df-convert {\n",
              "      background-color: #3B4455;\n",
              "      fill: #D2E3FC;\n",
              "    }\n",
              "\n",
              "    [theme=dark] .colab-df-convert:hover {\n",
              "      background-color: #434B5C;\n",
              "      box-shadow: 0px 1px 3px 1px rgba(0, 0, 0, 0.15);\n",
              "      filter: drop-shadow(0px 1px 2px rgba(0, 0, 0, 0.3));\n",
              "      fill: #FFFFFF;\n",
              "    }\n",
              "  </style>\n",
              "\n",
              "      <script>\n",
              "        const buttonEl =\n",
              "          document.querySelector('#df-3033af59-185d-455f-926a-527df8a25874 button.colab-df-convert');\n",
              "        buttonEl.style.display =\n",
              "          google.colab.kernel.accessAllowed ? 'block' : 'none';\n",
              "\n",
              "        async function convertToInteractive(key) {\n",
              "          const element = document.querySelector('#df-3033af59-185d-455f-926a-527df8a25874');\n",
              "          const dataTable =\n",
              "            await google.colab.kernel.invokeFunction('convertToInteractive',\n",
              "                                                     [key], {});\n",
              "          if (!dataTable) return;\n",
              "\n",
              "          const docLinkHtml = 'Like what you see? Visit the ' +\n",
              "            '<a target=\"_blank\" href=https://colab.research.google.com/notebooks/data_table.ipynb>data table notebook</a>'\n",
              "            + ' to learn more about interactive tables.';\n",
              "          element.innerHTML = '';\n",
              "          dataTable['output_type'] = 'display_data';\n",
              "          await google.colab.output.renderOutput(dataTable, element);\n",
              "          const docLink = document.createElement('div');\n",
              "          docLink.innerHTML = docLinkHtml;\n",
              "          element.appendChild(docLink);\n",
              "        }\n",
              "      </script>\n",
              "    </div>\n",
              "  </div>\n",
              "  "
            ]
          },
          "metadata": {},
          "execution_count": 118
        }
      ]
    },
    {
      "cell_type": "code",
      "execution_count": null,
      "metadata": {
        "id": "r8mC0BsW0HrR"
      },
      "outputs": [],
      "source": [
        " X=clean_df['text'].astype(str)"
      ]
    },
    {
      "cell_type": "code",
      "source": [
        "from sklearn.feature_extraction.text import TfidfVectorizer\n",
        "from keras.utils import np_utils\n",
        "\n",
        "seq_len = 80\n",
        "max_vocab=2000\n",
        "\n",
        "tokenizer = Tokenizer(num_words=max_vocab)\n",
        "tokenizer.fit_on_texts(X)\n",
        "\n",
        "y=clean_df['category']\n",
        "\n",
        "X_train, X_test, y_train, y_test = train_test_split( X,y , test_size = 0.20,  random_state=42)\n",
        "\n",
        "y_train2=np_utils.to_categorical(y_train)\n",
        "y_test2=np_utils.to_categorical(y_test)\n",
        "\n",
        "X_train = tokenizer.texts_to_sequences(X_train)\n",
        "X_train = pad_sequences(X_train,maxlen=seq_len)\n",
        "\n",
        "X_test = tokenizer.texts_to_sequences(X_test)\n",
        "X_test = pad_sequences(X_test,maxlen=seq_len)\n"
      ],
      "metadata": {
        "id": "5_94clXHrych"
      },
      "execution_count": null,
      "outputs": []
    },
    {
      "cell_type": "code",
      "source": [
        "X_train.shape"
      ],
      "metadata": {
        "id": "r3etN_IxvHEY",
        "colab": {
          "base_uri": "https://localhost:8080/"
        },
        "outputId": "46fba61c-f622-4374-eaff-ca25b13c232c"
      },
      "execution_count": null,
      "outputs": [
        {
          "output_type": "execute_result",
          "data": {
            "text/plain": [
              "(7755, 80)"
            ]
          },
          "metadata": {},
          "execution_count": 84
        }
      ]
    },
    {
      "cell_type": "markdown",
      "source": [
        "**Modeling** **clean** **data** "
      ],
      "metadata": {
        "id": "On367J19PXC3"
      }
    },
    {
      "cell_type": "code",
      "source": [
        "model = Sequential()\n",
        "model.add(Dense(2,input_dim=X_train.shape[1],name='2D_layer'))\n",
        "model.add(Activation('relu'))\n",
        "model.add(Dense(4))\n",
        "model.add(Activation('sigmoid'))\n",
        "model.compile(loss='categorical_crossentropy',optimizer='adam')\n",
        "model.fit(X_train,y_train2,epochs=65,batch_size=64,verbose=1)"
      ],
      "metadata": {
        "id": "g0sybZi9wcFF",
        "colab": {
          "base_uri": "https://localhost:8080/"
        },
        "outputId": "f18e9082-6209-46fd-d37d-c459d7106327"
      },
      "execution_count": null,
      "outputs": [
        {
          "output_type": "stream",
          "name": "stdout",
          "text": [
            "Epoch 1/65\n",
            "122/122 [==============================] - 1s 3ms/step - loss: 72.9895\n",
            "Epoch 2/65\n",
            "122/122 [==============================] - 0s 3ms/step - loss: 16.2338\n",
            "Epoch 3/65\n",
            "122/122 [==============================] - 0s 3ms/step - loss: 4.1447\n",
            "Epoch 4/65\n",
            "122/122 [==============================] - 0s 3ms/step - loss: 1.8380\n",
            "Epoch 5/65\n",
            "122/122 [==============================] - 0s 3ms/step - loss: 1.4321\n",
            "Epoch 6/65\n",
            "122/122 [==============================] - 0s 3ms/step - loss: 1.2379\n",
            "Epoch 7/65\n",
            "122/122 [==============================] - 0s 3ms/step - loss: 1.1410\n",
            "Epoch 8/65\n",
            "122/122 [==============================] - 0s 2ms/step - loss: 1.0811\n",
            "Epoch 9/65\n",
            "122/122 [==============================] - 0s 2ms/step - loss: 1.0393\n",
            "Epoch 10/65\n",
            "122/122 [==============================] - 0s 2ms/step - loss: 1.0152\n",
            "Epoch 11/65\n",
            "122/122 [==============================] - 0s 2ms/step - loss: 1.0019\n",
            "Epoch 12/65\n",
            "122/122 [==============================] - 0s 2ms/step - loss: 0.9933\n",
            "Epoch 13/65\n",
            "122/122 [==============================] - 0s 2ms/step - loss: 0.9873\n",
            "Epoch 14/65\n",
            "122/122 [==============================] - 0s 2ms/step - loss: 0.9837\n",
            "Epoch 15/65\n",
            "122/122 [==============================] - 0s 2ms/step - loss: 0.9811\n",
            "Epoch 16/65\n",
            "122/122 [==============================] - 0s 2ms/step - loss: 0.9795\n",
            "Epoch 17/65\n",
            "122/122 [==============================] - 0s 2ms/step - loss: 0.9782\n",
            "Epoch 18/65\n",
            "122/122 [==============================] - 0s 2ms/step - loss: 0.9773\n",
            "Epoch 19/65\n",
            "122/122 [==============================] - 0s 2ms/step - loss: 0.9767\n",
            "Epoch 20/65\n",
            "122/122 [==============================] - 0s 2ms/step - loss: 0.9763\n",
            "Epoch 21/65\n",
            "122/122 [==============================] - 0s 2ms/step - loss: 0.9759\n",
            "Epoch 22/65\n",
            "122/122 [==============================] - 0s 2ms/step - loss: 0.9757\n",
            "Epoch 23/65\n",
            "122/122 [==============================] - 0s 2ms/step - loss: 0.9755\n",
            "Epoch 24/65\n",
            "122/122 [==============================] - 0s 2ms/step - loss: 0.9754\n",
            "Epoch 25/65\n",
            "122/122 [==============================] - 0s 2ms/step - loss: 0.9753\n",
            "Epoch 26/65\n",
            "122/122 [==============================] - 0s 2ms/step - loss: 0.9752\n",
            "Epoch 27/65\n",
            "122/122 [==============================] - 0s 2ms/step - loss: 0.9752\n",
            "Epoch 28/65\n",
            "122/122 [==============================] - 0s 2ms/step - loss: 0.9752\n",
            "Epoch 29/65\n",
            "122/122 [==============================] - 0s 2ms/step - loss: 0.9751\n",
            "Epoch 30/65\n",
            "122/122 [==============================] - 0s 2ms/step - loss: 0.9751\n",
            "Epoch 31/65\n",
            "122/122 [==============================] - 0s 2ms/step - loss: 0.9751\n",
            "Epoch 32/65\n",
            "122/122 [==============================] - 0s 2ms/step - loss: 0.9751\n",
            "Epoch 33/65\n",
            "122/122 [==============================] - 0s 2ms/step - loss: 0.9751\n",
            "Epoch 34/65\n",
            "122/122 [==============================] - 0s 2ms/step - loss: 0.9751\n",
            "Epoch 35/65\n",
            "122/122 [==============================] - 0s 2ms/step - loss: 0.9751\n",
            "Epoch 36/65\n",
            "122/122 [==============================] - 0s 2ms/step - loss: 0.9751\n",
            "Epoch 37/65\n",
            "122/122 [==============================] - 0s 2ms/step - loss: 0.9751\n",
            "Epoch 38/65\n",
            "122/122 [==============================] - 0s 2ms/step - loss: 0.9751\n",
            "Epoch 39/65\n",
            "122/122 [==============================] - 0s 2ms/step - loss: 0.9751\n",
            "Epoch 40/65\n",
            "122/122 [==============================] - 0s 2ms/step - loss: 0.9752\n",
            "Epoch 41/65\n",
            "122/122 [==============================] - 0s 2ms/step - loss: 0.9751\n",
            "Epoch 42/65\n",
            "122/122 [==============================] - 0s 2ms/step - loss: 0.9751\n",
            "Epoch 43/65\n",
            "122/122 [==============================] - 0s 2ms/step - loss: 0.9751\n",
            "Epoch 44/65\n",
            "122/122 [==============================] - 0s 2ms/step - loss: 0.9751\n",
            "Epoch 45/65\n",
            "122/122 [==============================] - 0s 2ms/step - loss: 0.9751\n",
            "Epoch 46/65\n",
            "122/122 [==============================] - 0s 2ms/step - loss: 0.9752\n",
            "Epoch 47/65\n",
            "122/122 [==============================] - 0s 2ms/step - loss: 0.9751\n",
            "Epoch 48/65\n",
            "122/122 [==============================] - 0s 2ms/step - loss: 0.9752\n",
            "Epoch 49/65\n",
            "122/122 [==============================] - 0s 2ms/step - loss: 0.9751\n",
            "Epoch 50/65\n",
            "122/122 [==============================] - 0s 2ms/step - loss: 0.9751\n",
            "Epoch 51/65\n",
            "122/122 [==============================] - 0s 2ms/step - loss: 0.9751\n",
            "Epoch 52/65\n",
            "122/122 [==============================] - 0s 2ms/step - loss: 0.9751\n",
            "Epoch 53/65\n",
            "122/122 [==============================] - 0s 2ms/step - loss: 0.9751\n",
            "Epoch 54/65\n",
            "122/122 [==============================] - 0s 2ms/step - loss: 0.9751\n",
            "Epoch 55/65\n",
            "122/122 [==============================] - 0s 2ms/step - loss: 0.9751\n",
            "Epoch 56/65\n",
            "122/122 [==============================] - 0s 2ms/step - loss: 0.9751\n",
            "Epoch 57/65\n",
            "122/122 [==============================] - 0s 2ms/step - loss: 0.9751\n",
            "Epoch 58/65\n",
            "122/122 [==============================] - 0s 2ms/step - loss: 0.9751\n",
            "Epoch 59/65\n",
            "122/122 [==============================] - 0s 2ms/step - loss: 0.9751\n",
            "Epoch 60/65\n",
            "122/122 [==============================] - 0s 2ms/step - loss: 0.9751\n",
            "Epoch 61/65\n",
            "122/122 [==============================] - 0s 2ms/step - loss: 0.9751\n",
            "Epoch 62/65\n",
            "122/122 [==============================] - 0s 2ms/step - loss: 0.9751\n",
            "Epoch 63/65\n",
            "122/122 [==============================] - 0s 2ms/step - loss: 0.9751\n",
            "Epoch 64/65\n",
            "122/122 [==============================] - 0s 2ms/step - loss: 0.9751\n",
            "Epoch 65/65\n",
            "122/122 [==============================] - 0s 2ms/step - loss: 0.9751\n"
          ]
        },
        {
          "output_type": "execute_result",
          "data": {
            "text/plain": [
              "<keras.callbacks.History at 0x7fe9b55559a0>"
            ]
          },
          "metadata": {},
          "execution_count": 87
        }
      ]
    },
    {
      "cell_type": "code",
      "source": [
        "from sklearn.metrics import accuracy_score\n",
        "\n",
        "accuracy_score(y_test2, (model.predict(X_test)>0.5).astype(\"int32\"))"
      ],
      "metadata": {
        "id": "L4SMfn_2xNGh",
        "colab": {
          "base_uri": "https://localhost:8080/"
        },
        "outputId": "0a2f5408-5d19-474c-fa1d-61bbbaa56b33"
      },
      "execution_count": null,
      "outputs": [
        {
          "output_type": "stream",
          "name": "stdout",
          "text": [
            "61/61 [==============================] - 0s 2ms/step\n"
          ]
        },
        {
          "output_type": "execute_result",
          "data": {
            "text/plain": [
              "0.6580711707065497"
            ]
          },
          "metadata": {},
          "execution_count": 88
        }
      ]
    },
    {
      "cell_type": "markdown",
      "source": [
        "**LSTM** , **GlobalMaxPool1D**"
      ],
      "metadata": {
        "id": "Y0PSjARLPeyG"
      }
    },
    {
      "cell_type": "code",
      "source": [
        "from tensorflow.keras.layers import Embedding, Input , Dense , GlobalMaxPool1D,LSTM\n",
        "input_shape=(np.array(X_train).shape[1])\n",
        "embedding_dim=20\n",
        "emb_vocab=max_vocab+1\n",
        "\n",
        "x_in = Input(shape=input_shape)\n",
        "x = Embedding(emb_vocab,embedding_dim)(x_in)\n",
        "x = LSTM(15, return_sequences=True)(x)\n",
        "x = GlobalMaxPool1D()(x)\n",
        "X = Dense (32, activation='relu') (x)\n",
        "X = Dense(4, activation='sigmoid')(x)\n",
        "model = tf.keras.models.Model(x_in,x)\n",
        "\n",
        "model.summary()"
      ],
      "metadata": {
        "id": "DUmd4Oeazyw5",
        "colab": {
          "base_uri": "https://localhost:8080/"
        },
        "outputId": "1d925206-42a7-4a0a-e613-52667dd425a8"
      },
      "execution_count": null,
      "outputs": [
        {
          "output_type": "stream",
          "name": "stdout",
          "text": [
            "Model: \"model_1\"\n",
            "_________________________________________________________________\n",
            " Layer (type)                Output Shape              Param #   \n",
            "=================================================================\n",
            " input_2 (InputLayer)        [(None, 80)]              0         \n",
            "                                                                 \n",
            " embedding_1 (Embedding)     (None, 80, 20)            40020     \n",
            "                                                                 \n",
            " lstm_1 (LSTM)               (None, 80, 15)            2160      \n",
            "                                                                 \n",
            " global_max_pooling1d_1 (Glo  (None, 15)               0         \n",
            " balMaxPooling1D)                                                \n",
            "                                                                 \n",
            "=================================================================\n",
            "Total params: 42,180\n",
            "Trainable params: 42,180\n",
            "Non-trainable params: 0\n",
            "_________________________________________________________________\n"
          ]
        }
      ]
    },
    {
      "cell_type": "code",
      "source": [
        "model.compile(loss='sparse_categorical_crossentropy',optimizer='adam', metrics=['accuracy'])\n",
        "model.fit(X_train,y_train,epochs=10,batch_size=128,verbose=1)"
      ],
      "metadata": {
        "id": "c2cpW8Co7W2B",
        "colab": {
          "base_uri": "https://localhost:8080/"
        },
        "outputId": "945fbe2e-de43-44cf-822c-d9938d6692d1"
      },
      "execution_count": null,
      "outputs": [
        {
          "output_type": "stream",
          "name": "stdout",
          "text": [
            "Epoch 1/10\n",
            "61/61 [==============================] - 2s 8ms/step - loss: 2.3833 - accuracy: 0.5938\n",
            "Epoch 2/10\n",
            "61/61 [==============================] - 0s 8ms/step - loss: 0.9155 - accuracy: 0.6712\n",
            "Epoch 3/10\n",
            "61/61 [==============================] - 0s 7ms/step - loss: 0.8623 - accuracy: 0.6811\n",
            "Epoch 4/10\n",
            "61/61 [==============================] - 0s 7ms/step - loss: 0.8115 - accuracy: 0.7060\n",
            "Epoch 5/10\n",
            "61/61 [==============================] - 0s 7ms/step - loss: 0.7737 - accuracy: 0.7260\n",
            "Epoch 6/10\n",
            "61/61 [==============================] - 0s 7ms/step - loss: 0.7306 - accuracy: 0.7442\n",
            "Epoch 7/10\n",
            "61/61 [==============================] - 0s 7ms/step - loss: 0.7110 - accuracy: 0.7625\n",
            "Epoch 8/10\n",
            "61/61 [==============================] - 0s 7ms/step - loss: 0.6795 - accuracy: 0.7711\n",
            "Epoch 9/10\n",
            "61/61 [==============================] - 0s 7ms/step - loss: 0.8952 - accuracy: 0.7137\n",
            "Epoch 10/10\n",
            "61/61 [==============================] - 0s 7ms/step - loss: 0.8734 - accuracy: 0.6698\n"
          ]
        },
        {
          "output_type": "execute_result",
          "data": {
            "text/plain": [
              "<keras.callbacks.History at 0x7fe9364e8100>"
            ]
          },
          "metadata": {},
          "execution_count": 90
        }
      ]
    },
    {
      "cell_type": "code",
      "source": [
        "from sklearn.metrics import f1_score\n",
        "\n",
        "y_pred = np.argmax(model.predict(X_test), axis=1)\n",
        "\n",
        "print(\"[loss, acc]: \" , model.evaluate(X_test, y_test)) \n",
        "print(\"f1 score for test set: \" , f1_score(y_test, y_pred, average=\"macro\"))"
      ],
      "metadata": {
        "id": "hzvh3yt2ADUW",
        "colab": {
          "base_uri": "https://localhost:8080/"
        },
        "outputId": "1a9cded2-6c58-4df1-cf23-ac3daf074b42"
      },
      "execution_count": null,
      "outputs": [
        {
          "output_type": "stream",
          "name": "stdout",
          "text": [
            "61/61 [==============================] - 1s 5ms/step\n",
            "61/61 [==============================] - 1s 6ms/step - loss: 0.9523 - accuracy: 0.6596\n",
            "[loss, acc]:  [0.9523347616195679, 0.6596183776855469]\n",
            "f1 score for test set:  0.20453918822135417\n"
          ]
        }
      ]
    },
    {
      "cell_type": "markdown",
      "source": [
        "**BERT**"
      ],
      "metadata": {
        "id": "KCOKWME9PnjN"
      }
    },
    {
      "cell_type": "code",
      "source": [
        "from sklearn import preprocessing\n",
        "le = preprocessing.LabelEncoder()\n",
        "clean_df['category'] = le.fit_transform(clean_df['category'])\n",
        "clean_df.head()\n",
        "\n"
      ],
      "metadata": {
        "id": "M5qvl0RVTDtv",
        "colab": {
          "base_uri": "https://localhost:8080/",
          "height": 206
        },
        "outputId": "c05b63ec-0151-40e1-e038-5edafeb70797"
      },
      "execution_count": null,
      "outputs": [
        {
          "output_type": "execute_result",
          "data": {
            "text/plain": [
              "                                                text  category\n",
              "0                         استقاله رئيس نتظر استقاله          2\n",
              "1  اهنئ الدكتور احمد جمال الدين القيادي بحزب مصر ...         3\n",
              "2  البرادعي يستقوي بامريكا مرهاخري يرسل عصام العر...         0\n",
              "3   شاهد فيلم استقصائي يتناول اسرار كواليس تعرض ل...         2\n",
              "4  الوالده اقولها بخاطري حشيشه تضحك اقولها مل اله...         1"
            ],
            "text/html": [
              "\n",
              "  <div id=\"df-22bb6b6f-6869-4fa7-b97c-b924677e2517\">\n",
              "    <div class=\"colab-df-container\">\n",
              "      <div>\n",
              "<style scoped>\n",
              "    .dataframe tbody tr th:only-of-type {\n",
              "        vertical-align: middle;\n",
              "    }\n",
              "\n",
              "    .dataframe tbody tr th {\n",
              "        vertical-align: top;\n",
              "    }\n",
              "\n",
              "    .dataframe thead th {\n",
              "        text-align: right;\n",
              "    }\n",
              "</style>\n",
              "<table border=\"1\" class=\"dataframe\">\n",
              "  <thead>\n",
              "    <tr style=\"text-align: right;\">\n",
              "      <th></th>\n",
              "      <th>text</th>\n",
              "      <th>category</th>\n",
              "    </tr>\n",
              "  </thead>\n",
              "  <tbody>\n",
              "    <tr>\n",
              "      <th>0</th>\n",
              "      <td>استقاله رئيس نتظر استقاله</td>\n",
              "      <td>2</td>\n",
              "    </tr>\n",
              "    <tr>\n",
              "      <th>1</th>\n",
              "      <td>اهنئ الدكتور احمد جمال الدين القيادي بحزب مصر ...</td>\n",
              "      <td>3</td>\n",
              "    </tr>\n",
              "    <tr>\n",
              "      <th>2</th>\n",
              "      <td>البرادعي يستقوي بامريكا مرهاخري يرسل عصام العر...</td>\n",
              "      <td>0</td>\n",
              "    </tr>\n",
              "    <tr>\n",
              "      <th>3</th>\n",
              "      <td>شاهد فيلم استقصائي يتناول اسرار كواليس تعرض ل...</td>\n",
              "      <td>2</td>\n",
              "    </tr>\n",
              "    <tr>\n",
              "      <th>4</th>\n",
              "      <td>الوالده اقولها بخاطري حشيشه تضحك اقولها مل اله...</td>\n",
              "      <td>1</td>\n",
              "    </tr>\n",
              "  </tbody>\n",
              "</table>\n",
              "</div>\n",
              "      <button class=\"colab-df-convert\" onclick=\"convertToInteractive('df-22bb6b6f-6869-4fa7-b97c-b924677e2517')\"\n",
              "              title=\"Convert this dataframe to an interactive table.\"\n",
              "              style=\"display:none;\">\n",
              "        \n",
              "  <svg xmlns=\"http://www.w3.org/2000/svg\" height=\"24px\"viewBox=\"0 0 24 24\"\n",
              "       width=\"24px\">\n",
              "    <path d=\"M0 0h24v24H0V0z\" fill=\"none\"/>\n",
              "    <path d=\"M18.56 5.44l.94 2.06.94-2.06 2.06-.94-2.06-.94-.94-2.06-.94 2.06-2.06.94zm-11 1L8.5 8.5l.94-2.06 2.06-.94-2.06-.94L8.5 2.5l-.94 2.06-2.06.94zm10 10l.94 2.06.94-2.06 2.06-.94-2.06-.94-.94-2.06-.94 2.06-2.06.94z\"/><path d=\"M17.41 7.96l-1.37-1.37c-.4-.4-.92-.59-1.43-.59-.52 0-1.04.2-1.43.59L10.3 9.45l-7.72 7.72c-.78.78-.78 2.05 0 2.83L4 21.41c.39.39.9.59 1.41.59.51 0 1.02-.2 1.41-.59l7.78-7.78 2.81-2.81c.8-.78.8-2.07 0-2.86zM5.41 20L4 18.59l7.72-7.72 1.47 1.35L5.41 20z\"/>\n",
              "  </svg>\n",
              "      </button>\n",
              "      \n",
              "  <style>\n",
              "    .colab-df-container {\n",
              "      display:flex;\n",
              "      flex-wrap:wrap;\n",
              "      gap: 12px;\n",
              "    }\n",
              "\n",
              "    .colab-df-convert {\n",
              "      background-color: #E8F0FE;\n",
              "      border: none;\n",
              "      border-radius: 50%;\n",
              "      cursor: pointer;\n",
              "      display: none;\n",
              "      fill: #1967D2;\n",
              "      height: 32px;\n",
              "      padding: 0 0 0 0;\n",
              "      width: 32px;\n",
              "    }\n",
              "\n",
              "    .colab-df-convert:hover {\n",
              "      background-color: #E2EBFA;\n",
              "      box-shadow: 0px 1px 2px rgba(60, 64, 67, 0.3), 0px 1px 3px 1px rgba(60, 64, 67, 0.15);\n",
              "      fill: #174EA6;\n",
              "    }\n",
              "\n",
              "    [theme=dark] .colab-df-convert {\n",
              "      background-color: #3B4455;\n",
              "      fill: #D2E3FC;\n",
              "    }\n",
              "\n",
              "    [theme=dark] .colab-df-convert:hover {\n",
              "      background-color: #434B5C;\n",
              "      box-shadow: 0px 1px 3px 1px rgba(0, 0, 0, 0.15);\n",
              "      filter: drop-shadow(0px 1px 2px rgba(0, 0, 0, 0.3));\n",
              "      fill: #FFFFFF;\n",
              "    }\n",
              "  </style>\n",
              "\n",
              "      <script>\n",
              "        const buttonEl =\n",
              "          document.querySelector('#df-22bb6b6f-6869-4fa7-b97c-b924677e2517 button.colab-df-convert');\n",
              "        buttonEl.style.display =\n",
              "          google.colab.kernel.accessAllowed ? 'block' : 'none';\n",
              "\n",
              "        async function convertToInteractive(key) {\n",
              "          const element = document.querySelector('#df-22bb6b6f-6869-4fa7-b97c-b924677e2517');\n",
              "          const dataTable =\n",
              "            await google.colab.kernel.invokeFunction('convertToInteractive',\n",
              "                                                     [key], {});\n",
              "          if (!dataTable) return;\n",
              "\n",
              "          const docLinkHtml = 'Like what you see? Visit the ' +\n",
              "            '<a target=\"_blank\" href=https://colab.research.google.com/notebooks/data_table.ipynb>data table notebook</a>'\n",
              "            + ' to learn more about interactive tables.';\n",
              "          element.innerHTML = '';\n",
              "          dataTable['output_type'] = 'display_data';\n",
              "          await google.colab.output.renderOutput(dataTable, element);\n",
              "          const docLink = document.createElement('div');\n",
              "          docLink.innerHTML = docLinkHtml;\n",
              "          element.appendChild(docLink);\n",
              "        }\n",
              "      </script>\n",
              "    </div>\n",
              "  </div>\n",
              "  "
            ]
          },
          "metadata": {},
          "execution_count": 119
        }
      ]
    },
    {
      "cell_type": "code",
      "source": [
        "clean_df.shape"
      ],
      "metadata": {
        "id": "hAPGSLy56mBi",
        "colab": {
          "base_uri": "https://localhost:8080/"
        },
        "outputId": "942b081b-4521-4beb-a3d1-7f420389d7a8"
      },
      "execution_count": null,
      "outputs": [
        {
          "output_type": "execute_result",
          "data": {
            "text/plain": [
              "(9694, 2)"
            ]
          },
          "metadata": {},
          "execution_count": 120
        }
      ]
    },
    {
      "cell_type": "code",
      "source": [
        "clean_df['category'].value_counts()"
      ],
      "metadata": {
        "id": "0t6sbLgH6l-2",
        "colab": {
          "base_uri": "https://localhost:8080/"
        },
        "outputId": "6c70da5c-1830-4146-86fd-7d585b55b2e3"
      },
      "execution_count": null,
      "outputs": [
        {
          "output_type": "execute_result",
          "data": {
            "text/plain": [
              "2    6470\n",
              "0    1642\n",
              "1     805\n",
              "3     777\n",
              "Name: category, dtype: int64"
            ]
          },
          "metadata": {},
          "execution_count": 121
        }
      ]
    },
    {
      "cell_type": "code",
      "source": [
        "X = clean_df['text'].tolist()\n",
        "y = clean_df['category'].tolist()\n",
        "X_train, X_test, y_train, y_test = train_test_split(X, y, test_size=0.2)"
      ],
      "metadata": {
        "id": "qc7ejIuz6l8I"
      },
      "execution_count": null,
      "outputs": []
    },
    {
      "cell_type": "code",
      "source": [
        "(X_train, y_train), (X_test, y_test), preproc = text.texts_from_array(x_train = X_train,\n",
        "                                                                      y_train = y_train,\n",
        "                                                                      x_test = X_test,\n",
        "                                                                      y_test = y_test,\n",
        "                                                                      class_names = ['0', '1','2','3'], \n",
        "                                                                      preprocess_mode = 'bert', \n",
        "                                                                      ngram_range = 1,\n",
        "                                                                      maxlen = 320)"
      ],
      "metadata": {
        "id": "8qNFS_v-6l5T",
        "colab": {
          "base_uri": "https://localhost:8080/",
          "height": 156
        },
        "outputId": "14c8b402-dcf9-453e-eacd-bdef656bdc7a"
      },
      "execution_count": null,
      "outputs": [
        {
          "output_type": "stream",
          "name": "stdout",
          "text": [
            "preprocessing train...\n",
            "language: ar\n"
          ]
        },
        {
          "output_type": "display_data",
          "data": {
            "text/plain": [
              "<IPython.core.display.HTML object>"
            ],
            "text/html": [
              "\n",
              "<style>\n",
              "    /* Turns off some styling */\n",
              "    progress {\n",
              "        /* gets rid of default border in Firefox and Opera. */\n",
              "        border: none;\n",
              "        /* Needs to be in here for Safari polyfill so background images work as expected. */\n",
              "        background-size: auto;\n",
              "    }\n",
              "    progress:not([value]), progress:not([value])::-webkit-progress-bar {\n",
              "        background: repeating-linear-gradient(45deg, #7e7e7e, #7e7e7e 10px, #5c5c5c 10px, #5c5c5c 20px);\n",
              "    }\n",
              "    .progress-bar-interrupted, .progress-bar-interrupted::-webkit-progress-bar {\n",
              "        background: #F44336;\n",
              "    }\n",
              "</style>\n"
            ]
          },
          "metadata": {}
        },
        {
          "output_type": "display_data",
          "data": {
            "text/plain": [
              "<IPython.core.display.HTML object>"
            ],
            "text/html": [
              "done."
            ]
          },
          "metadata": {}
        },
        {
          "output_type": "stream",
          "name": "stdout",
          "text": [
            "Is Multi-Label? False\n",
            "preprocessing test...\n",
            "language: ar\n"
          ]
        },
        {
          "output_type": "display_data",
          "data": {
            "text/plain": [
              "<IPython.core.display.HTML object>"
            ],
            "text/html": [
              "\n",
              "<style>\n",
              "    /* Turns off some styling */\n",
              "    progress {\n",
              "        /* gets rid of default border in Firefox and Opera. */\n",
              "        border: none;\n",
              "        /* Needs to be in here for Safari polyfill so background images work as expected. */\n",
              "        background-size: auto;\n",
              "    }\n",
              "    progress:not([value]), progress:not([value])::-webkit-progress-bar {\n",
              "        background: repeating-linear-gradient(45deg, #7e7e7e, #7e7e7e 10px, #5c5c5c 10px, #5c5c5c 20px);\n",
              "    }\n",
              "    .progress-bar-interrupted, .progress-bar-interrupted::-webkit-progress-bar {\n",
              "        background: #F44336;\n",
              "    }\n",
              "</style>\n"
            ]
          },
          "metadata": {}
        },
        {
          "output_type": "display_data",
          "data": {
            "text/plain": [
              "<IPython.core.display.HTML object>"
            ],
            "text/html": [
              "done."
            ]
          },
          "metadata": {}
        },
        {
          "output_type": "stream",
          "name": "stdout",
          "text": [
            "task: text classification\n"
          ]
        }
      ]
    },
    {
      "cell_type": "code",
      "source": [
        "# define the classifier\n",
        "model = text.text_classifier('bert',\n",
        "                              train_data = (X_train, y_train),\n",
        "                              preproc = preproc)"
      ],
      "metadata": {
        "id": "chCTkkK46l2X",
        "colab": {
          "base_uri": "https://localhost:8080/"
        },
        "outputId": "09de347a-16d5-47a5-b3bf-b237f3ba8c9a"
      },
      "execution_count": null,
      "outputs": [
        {
          "output_type": "stream",
          "name": "stdout",
          "text": [
            "Is Multi-Label? False\n",
            "maxlen is 320\n",
            "done.\n"
          ]
        }
      ]
    },
    {
      "cell_type": "code",
      "source": [
        "learner = ktrain.get_learner(model,\n",
        "                             train_data = (X_train, y_train),\n",
        "                             batch_size = 8)"
      ],
      "metadata": {
        "id": "CgYwwdMQ6lyx"
      },
      "execution_count": null,
      "outputs": []
    },
    {
      "cell_type": "code",
      "source": [
        "history = learner.fit_onecycle(1e-5, 2)"
      ],
      "metadata": {
        "id": "RCBgiIUY6lwK",
        "colab": {
          "base_uri": "https://localhost:8080/"
        },
        "outputId": "35573acf-5621-47dc-ac6c-8245964e36f5"
      },
      "execution_count": null,
      "outputs": [
        {
          "output_type": "stream",
          "name": "stdout",
          "text": [
            "\n",
            "\n",
            "begin training using onecycle policy with max lr of 1e-05...\n",
            "Epoch 1/2\n",
            "970/970 [==============================] - 648s 648ms/step - loss: 0.9409 - accuracy: 0.6582\n",
            "Epoch 2/2\n",
            "970/970 [==============================] - 629s 649ms/step - loss: 0.8612 - accuracy: 0.6801\n"
          ]
        }
      ]
    },
    {
      "cell_type": "code",
      "source": [
        "learner.validate(val_data = (X_test, y_test))"
      ],
      "metadata": {
        "id": "-_Zbb69h6ltW",
        "colab": {
          "base_uri": "https://localhost:8080/"
        },
        "outputId": "1946185b-d898-4a73-9cfc-4dd3d161730c"
      },
      "execution_count": null,
      "outputs": [
        {
          "output_type": "stream",
          "name": "stdout",
          "text": [
            "61/61 [==============================] - 55s 835ms/step\n",
            "              precision    recall  f1-score   support\n",
            "\n",
            "           0       0.46      0.26      0.33       331\n",
            "           1       0.33      0.01      0.01       163\n",
            "           2       0.71      0.95      0.81      1297\n",
            "           3       0.57      0.08      0.14       148\n",
            "\n",
            "    accuracy                           0.68      1939\n",
            "   macro avg       0.52      0.32      0.33      1939\n",
            "weighted avg       0.63      0.68      0.61      1939\n",
            "\n"
          ]
        },
        {
          "output_type": "execute_result",
          "data": {
            "text/plain": [
              "array([[  87,    2,  241,    1],\n",
              "       [  33,    1,  127,    2],\n",
              "       [  63,    0, 1228,    6],\n",
              "       [   7,    0,  129,   12]])"
            ]
          },
          "metadata": {},
          "execution_count": 128
        }
      ]
    },
    {
      "cell_type": "markdown",
      "source": [
        "## Modeling Data without Cleaning with BERT "
      ],
      "metadata": {
        "id": "8VR-iX_p95dD"
      }
    },
    {
      "cell_type": "code",
      "execution_count": null,
      "metadata": {
        "id": "OJeW2qeaO5Gz"
      },
      "outputs": [],
      "source": [
        "df=pd.read_csv('/content/Tweets.txt', sep='\\t', names=[\"text\" , \"category\"])"
      ]
    },
    {
      "cell_type": "code",
      "source": [
        "df"
      ],
      "metadata": {
        "id": "R1zMWzeAPYOy",
        "colab": {
          "base_uri": "https://localhost:8080/",
          "height": 424
        },
        "outputId": "8ab8fd03-4a6e-45d4-bec2-3a93f26e7713"
      },
      "execution_count": null,
      "outputs": [
        {
          "output_type": "execute_result",
          "data": {
            "text/plain": [
              "                                                   text category\n",
              "0     بعد استقالة رئيس #المحكمة_الدستورية ننتظر استق...      OBJ\n",
              "1     أهنئ الدكتور أحمد جمال الدين، القيادي بحزب مصر...      POS\n",
              "2     البرادعي يستقوى بامريكا مرةاخرى و يرسل عصام ال...      NEG\n",
              "3     #الحرية_والعدالة | شاهد الآن: #ليلة_الاتحادية ...      OBJ\n",
              "4     الوالدة لو اقولها بخاطري حشيشة تضحك بس من اقول...  NEUTRAL\n",
              "...                                                 ...      ...\n",
              "9689  والغاز مش مدعوم يا إنسان؟ وماذا عن الأسمنت وال...      NEG\n",
              "9690  اغلاق كل الساحات والميادين الكبرى لمنع صلاة ال...      NEG\n",
              "9691  #الشروق \"الداخلية\": 400 ألف مواطن تقدموا لأداء...      OBJ\n",
              "9692      #هتحبك_لو صحتها من النوم علشان تقولها بحبك ;)      POS\n",
              "9693     كل شى كتبته غلط كل شى حسبته غلط فى #الامتحانات      NEG\n",
              "\n",
              "[9694 rows x 2 columns]"
            ],
            "text/html": [
              "\n",
              "  <div id=\"df-72d3a5f6-68b8-43c1-bd87-8bdc1f1ec617\">\n",
              "    <div class=\"colab-df-container\">\n",
              "      <div>\n",
              "<style scoped>\n",
              "    .dataframe tbody tr th:only-of-type {\n",
              "        vertical-align: middle;\n",
              "    }\n",
              "\n",
              "    .dataframe tbody tr th {\n",
              "        vertical-align: top;\n",
              "    }\n",
              "\n",
              "    .dataframe thead th {\n",
              "        text-align: right;\n",
              "    }\n",
              "</style>\n",
              "<table border=\"1\" class=\"dataframe\">\n",
              "  <thead>\n",
              "    <tr style=\"text-align: right;\">\n",
              "      <th></th>\n",
              "      <th>text</th>\n",
              "      <th>category</th>\n",
              "    </tr>\n",
              "  </thead>\n",
              "  <tbody>\n",
              "    <tr>\n",
              "      <th>0</th>\n",
              "      <td>بعد استقالة رئيس #المحكمة_الدستورية ننتظر استق...</td>\n",
              "      <td>OBJ</td>\n",
              "    </tr>\n",
              "    <tr>\n",
              "      <th>1</th>\n",
              "      <td>أهنئ الدكتور أحمد جمال الدين، القيادي بحزب مصر...</td>\n",
              "      <td>POS</td>\n",
              "    </tr>\n",
              "    <tr>\n",
              "      <th>2</th>\n",
              "      <td>البرادعي يستقوى بامريكا مرةاخرى و يرسل عصام ال...</td>\n",
              "      <td>NEG</td>\n",
              "    </tr>\n",
              "    <tr>\n",
              "      <th>3</th>\n",
              "      <td>#الحرية_والعدالة | شاهد الآن: #ليلة_الاتحادية ...</td>\n",
              "      <td>OBJ</td>\n",
              "    </tr>\n",
              "    <tr>\n",
              "      <th>4</th>\n",
              "      <td>الوالدة لو اقولها بخاطري حشيشة تضحك بس من اقول...</td>\n",
              "      <td>NEUTRAL</td>\n",
              "    </tr>\n",
              "    <tr>\n",
              "      <th>...</th>\n",
              "      <td>...</td>\n",
              "      <td>...</td>\n",
              "    </tr>\n",
              "    <tr>\n",
              "      <th>9689</th>\n",
              "      <td>والغاز مش مدعوم يا إنسان؟ وماذا عن الأسمنت وال...</td>\n",
              "      <td>NEG</td>\n",
              "    </tr>\n",
              "    <tr>\n",
              "      <th>9690</th>\n",
              "      <td>اغلاق كل الساحات والميادين الكبرى لمنع صلاة ال...</td>\n",
              "      <td>NEG</td>\n",
              "    </tr>\n",
              "    <tr>\n",
              "      <th>9691</th>\n",
              "      <td>#الشروق \"الداخلية\": 400 ألف مواطن تقدموا لأداء...</td>\n",
              "      <td>OBJ</td>\n",
              "    </tr>\n",
              "    <tr>\n",
              "      <th>9692</th>\n",
              "      <td>#هتحبك_لو صحتها من النوم علشان تقولها بحبك ;)</td>\n",
              "      <td>POS</td>\n",
              "    </tr>\n",
              "    <tr>\n",
              "      <th>9693</th>\n",
              "      <td>كل شى كتبته غلط كل شى حسبته غلط فى #الامتحانات</td>\n",
              "      <td>NEG</td>\n",
              "    </tr>\n",
              "  </tbody>\n",
              "</table>\n",
              "<p>9694 rows × 2 columns</p>\n",
              "</div>\n",
              "      <button class=\"colab-df-convert\" onclick=\"convertToInteractive('df-72d3a5f6-68b8-43c1-bd87-8bdc1f1ec617')\"\n",
              "              title=\"Convert this dataframe to an interactive table.\"\n",
              "              style=\"display:none;\">\n",
              "        \n",
              "  <svg xmlns=\"http://www.w3.org/2000/svg\" height=\"24px\"viewBox=\"0 0 24 24\"\n",
              "       width=\"24px\">\n",
              "    <path d=\"M0 0h24v24H0V0z\" fill=\"none\"/>\n",
              "    <path d=\"M18.56 5.44l.94 2.06.94-2.06 2.06-.94-2.06-.94-.94-2.06-.94 2.06-2.06.94zm-11 1L8.5 8.5l.94-2.06 2.06-.94-2.06-.94L8.5 2.5l-.94 2.06-2.06.94zm10 10l.94 2.06.94-2.06 2.06-.94-2.06-.94-.94-2.06-.94 2.06-2.06.94z\"/><path d=\"M17.41 7.96l-1.37-1.37c-.4-.4-.92-.59-1.43-.59-.52 0-1.04.2-1.43.59L10.3 9.45l-7.72 7.72c-.78.78-.78 2.05 0 2.83L4 21.41c.39.39.9.59 1.41.59.51 0 1.02-.2 1.41-.59l7.78-7.78 2.81-2.81c.8-.78.8-2.07 0-2.86zM5.41 20L4 18.59l7.72-7.72 1.47 1.35L5.41 20z\"/>\n",
              "  </svg>\n",
              "      </button>\n",
              "      \n",
              "  <style>\n",
              "    .colab-df-container {\n",
              "      display:flex;\n",
              "      flex-wrap:wrap;\n",
              "      gap: 12px;\n",
              "    }\n",
              "\n",
              "    .colab-df-convert {\n",
              "      background-color: #E8F0FE;\n",
              "      border: none;\n",
              "      border-radius: 50%;\n",
              "      cursor: pointer;\n",
              "      display: none;\n",
              "      fill: #1967D2;\n",
              "      height: 32px;\n",
              "      padding: 0 0 0 0;\n",
              "      width: 32px;\n",
              "    }\n",
              "\n",
              "    .colab-df-convert:hover {\n",
              "      background-color: #E2EBFA;\n",
              "      box-shadow: 0px 1px 2px rgba(60, 64, 67, 0.3), 0px 1px 3px 1px rgba(60, 64, 67, 0.15);\n",
              "      fill: #174EA6;\n",
              "    }\n",
              "\n",
              "    [theme=dark] .colab-df-convert {\n",
              "      background-color: #3B4455;\n",
              "      fill: #D2E3FC;\n",
              "    }\n",
              "\n",
              "    [theme=dark] .colab-df-convert:hover {\n",
              "      background-color: #434B5C;\n",
              "      box-shadow: 0px 1px 3px 1px rgba(0, 0, 0, 0.15);\n",
              "      filter: drop-shadow(0px 1px 2px rgba(0, 0, 0, 0.3));\n",
              "      fill: #FFFFFF;\n",
              "    }\n",
              "  </style>\n",
              "\n",
              "      <script>\n",
              "        const buttonEl =\n",
              "          document.querySelector('#df-72d3a5f6-68b8-43c1-bd87-8bdc1f1ec617 button.colab-df-convert');\n",
              "        buttonEl.style.display =\n",
              "          google.colab.kernel.accessAllowed ? 'block' : 'none';\n",
              "\n",
              "        async function convertToInteractive(key) {\n",
              "          const element = document.querySelector('#df-72d3a5f6-68b8-43c1-bd87-8bdc1f1ec617');\n",
              "          const dataTable =\n",
              "            await google.colab.kernel.invokeFunction('convertToInteractive',\n",
              "                                                     [key], {});\n",
              "          if (!dataTable) return;\n",
              "\n",
              "          const docLinkHtml = 'Like what you see? Visit the ' +\n",
              "            '<a target=\"_blank\" href=https://colab.research.google.com/notebooks/data_table.ipynb>data table notebook</a>'\n",
              "            + ' to learn more about interactive tables.';\n",
              "          element.innerHTML = '';\n",
              "          dataTable['output_type'] = 'display_data';\n",
              "          await google.colab.output.renderOutput(dataTable, element);\n",
              "          const docLink = document.createElement('div');\n",
              "          docLink.innerHTML = docLinkHtml;\n",
              "          element.appendChild(docLink);\n",
              "        }\n",
              "      </script>\n",
              "    </div>\n",
              "  </div>\n",
              "  "
            ]
          },
          "metadata": {},
          "execution_count": 106
        }
      ]
    },
    {
      "cell_type": "code",
      "source": [
        "from sklearn import preprocessing\n",
        "le = preprocessing.LabelEncoder()\n",
        "df['category'] = le.fit_transform(df['category'])\n",
        "df.head()\n",
        "\n"
      ],
      "metadata": {
        "id": "4zfOPubHOynb",
        "colab": {
          "base_uri": "https://localhost:8080/",
          "height": 206
        },
        "outputId": "ca3e9bcb-4a9a-4d58-e860-827b59cda0f6"
      },
      "execution_count": null,
      "outputs": [
        {
          "output_type": "execute_result",
          "data": {
            "text/plain": [
              "                                                text  category\n",
              "0  بعد استقالة رئيس #المحكمة_الدستورية ننتظر استق...         2\n",
              "1  أهنئ الدكتور أحمد جمال الدين، القيادي بحزب مصر...         3\n",
              "2  البرادعي يستقوى بامريكا مرةاخرى و يرسل عصام ال...         0\n",
              "3  #الحرية_والعدالة | شاهد الآن: #ليلة_الاتحادية ...         2\n",
              "4  الوالدة لو اقولها بخاطري حشيشة تضحك بس من اقول...         1"
            ],
            "text/html": [
              "\n",
              "  <div id=\"df-3671b29e-becf-4ece-973b-dfd3b310d20a\">\n",
              "    <div class=\"colab-df-container\">\n",
              "      <div>\n",
              "<style scoped>\n",
              "    .dataframe tbody tr th:only-of-type {\n",
              "        vertical-align: middle;\n",
              "    }\n",
              "\n",
              "    .dataframe tbody tr th {\n",
              "        vertical-align: top;\n",
              "    }\n",
              "\n",
              "    .dataframe thead th {\n",
              "        text-align: right;\n",
              "    }\n",
              "</style>\n",
              "<table border=\"1\" class=\"dataframe\">\n",
              "  <thead>\n",
              "    <tr style=\"text-align: right;\">\n",
              "      <th></th>\n",
              "      <th>text</th>\n",
              "      <th>category</th>\n",
              "    </tr>\n",
              "  </thead>\n",
              "  <tbody>\n",
              "    <tr>\n",
              "      <th>0</th>\n",
              "      <td>بعد استقالة رئيس #المحكمة_الدستورية ننتظر استق...</td>\n",
              "      <td>2</td>\n",
              "    </tr>\n",
              "    <tr>\n",
              "      <th>1</th>\n",
              "      <td>أهنئ الدكتور أحمد جمال الدين، القيادي بحزب مصر...</td>\n",
              "      <td>3</td>\n",
              "    </tr>\n",
              "    <tr>\n",
              "      <th>2</th>\n",
              "      <td>البرادعي يستقوى بامريكا مرةاخرى و يرسل عصام ال...</td>\n",
              "      <td>0</td>\n",
              "    </tr>\n",
              "    <tr>\n",
              "      <th>3</th>\n",
              "      <td>#الحرية_والعدالة | شاهد الآن: #ليلة_الاتحادية ...</td>\n",
              "      <td>2</td>\n",
              "    </tr>\n",
              "    <tr>\n",
              "      <th>4</th>\n",
              "      <td>الوالدة لو اقولها بخاطري حشيشة تضحك بس من اقول...</td>\n",
              "      <td>1</td>\n",
              "    </tr>\n",
              "  </tbody>\n",
              "</table>\n",
              "</div>\n",
              "      <button class=\"colab-df-convert\" onclick=\"convertToInteractive('df-3671b29e-becf-4ece-973b-dfd3b310d20a')\"\n",
              "              title=\"Convert this dataframe to an interactive table.\"\n",
              "              style=\"display:none;\">\n",
              "        \n",
              "  <svg xmlns=\"http://www.w3.org/2000/svg\" height=\"24px\"viewBox=\"0 0 24 24\"\n",
              "       width=\"24px\">\n",
              "    <path d=\"M0 0h24v24H0V0z\" fill=\"none\"/>\n",
              "    <path d=\"M18.56 5.44l.94 2.06.94-2.06 2.06-.94-2.06-.94-.94-2.06-.94 2.06-2.06.94zm-11 1L8.5 8.5l.94-2.06 2.06-.94-2.06-.94L8.5 2.5l-.94 2.06-2.06.94zm10 10l.94 2.06.94-2.06 2.06-.94-2.06-.94-.94-2.06-.94 2.06-2.06.94z\"/><path d=\"M17.41 7.96l-1.37-1.37c-.4-.4-.92-.59-1.43-.59-.52 0-1.04.2-1.43.59L10.3 9.45l-7.72 7.72c-.78.78-.78 2.05 0 2.83L4 21.41c.39.39.9.59 1.41.59.51 0 1.02-.2 1.41-.59l7.78-7.78 2.81-2.81c.8-.78.8-2.07 0-2.86zM5.41 20L4 18.59l7.72-7.72 1.47 1.35L5.41 20z\"/>\n",
              "  </svg>\n",
              "      </button>\n",
              "      \n",
              "  <style>\n",
              "    .colab-df-container {\n",
              "      display:flex;\n",
              "      flex-wrap:wrap;\n",
              "      gap: 12px;\n",
              "    }\n",
              "\n",
              "    .colab-df-convert {\n",
              "      background-color: #E8F0FE;\n",
              "      border: none;\n",
              "      border-radius: 50%;\n",
              "      cursor: pointer;\n",
              "      display: none;\n",
              "      fill: #1967D2;\n",
              "      height: 32px;\n",
              "      padding: 0 0 0 0;\n",
              "      width: 32px;\n",
              "    }\n",
              "\n",
              "    .colab-df-convert:hover {\n",
              "      background-color: #E2EBFA;\n",
              "      box-shadow: 0px 1px 2px rgba(60, 64, 67, 0.3), 0px 1px 3px 1px rgba(60, 64, 67, 0.15);\n",
              "      fill: #174EA6;\n",
              "    }\n",
              "\n",
              "    [theme=dark] .colab-df-convert {\n",
              "      background-color: #3B4455;\n",
              "      fill: #D2E3FC;\n",
              "    }\n",
              "\n",
              "    [theme=dark] .colab-df-convert:hover {\n",
              "      background-color: #434B5C;\n",
              "      box-shadow: 0px 1px 3px 1px rgba(0, 0, 0, 0.15);\n",
              "      filter: drop-shadow(0px 1px 2px rgba(0, 0, 0, 0.3));\n",
              "      fill: #FFFFFF;\n",
              "    }\n",
              "  </style>\n",
              "\n",
              "      <script>\n",
              "        const buttonEl =\n",
              "          document.querySelector('#df-3671b29e-becf-4ece-973b-dfd3b310d20a button.colab-df-convert');\n",
              "        buttonEl.style.display =\n",
              "          google.colab.kernel.accessAllowed ? 'block' : 'none';\n",
              "\n",
              "        async function convertToInteractive(key) {\n",
              "          const element = document.querySelector('#df-3671b29e-becf-4ece-973b-dfd3b310d20a');\n",
              "          const dataTable =\n",
              "            await google.colab.kernel.invokeFunction('convertToInteractive',\n",
              "                                                     [key], {});\n",
              "          if (!dataTable) return;\n",
              "\n",
              "          const docLinkHtml = 'Like what you see? Visit the ' +\n",
              "            '<a target=\"_blank\" href=https://colab.research.google.com/notebooks/data_table.ipynb>data table notebook</a>'\n",
              "            + ' to learn more about interactive tables.';\n",
              "          element.innerHTML = '';\n",
              "          dataTable['output_type'] = 'display_data';\n",
              "          await google.colab.output.renderOutput(dataTable, element);\n",
              "          const docLink = document.createElement('div');\n",
              "          docLink.innerHTML = docLinkHtml;\n",
              "          element.appendChild(docLink);\n",
              "        }\n",
              "      </script>\n",
              "    </div>\n",
              "  </div>\n",
              "  "
            ]
          },
          "metadata": {},
          "execution_count": 107
        }
      ]
    },
    {
      "cell_type": "code",
      "source": [
        "df.shape"
      ],
      "metadata": {
        "id": "8-zPD0CGOynb",
        "colab": {
          "base_uri": "https://localhost:8080/"
        },
        "outputId": "edd3f141-e580-47a0-f3ec-1451ca90fbf4"
      },
      "execution_count": null,
      "outputs": [
        {
          "output_type": "execute_result",
          "data": {
            "text/plain": [
              "(9694, 2)"
            ]
          },
          "metadata": {},
          "execution_count": 108
        }
      ]
    },
    {
      "cell_type": "code",
      "source": [
        "df['category'].value_counts()"
      ],
      "metadata": {
        "id": "F1jQGda2Oynb",
        "colab": {
          "base_uri": "https://localhost:8080/"
        },
        "outputId": "0b02dc86-03bb-4350-9d63-6aa7ce1de468"
      },
      "execution_count": null,
      "outputs": [
        {
          "output_type": "execute_result",
          "data": {
            "text/plain": [
              "2    6470\n",
              "0    1642\n",
              "1     805\n",
              "3     777\n",
              "Name: category, dtype: int64"
            ]
          },
          "metadata": {},
          "execution_count": 102
        }
      ]
    },
    {
      "cell_type": "code",
      "source": [
        "X = df['text'].tolist()\n",
        "y = df['category'].tolist()\n",
        "X_train, X_test, y_train, y_test = train_test_split(X, y, test_size=0.2)"
      ],
      "metadata": {
        "id": "KPbxMYdIOync"
      },
      "execution_count": null,
      "outputs": []
    },
    {
      "cell_type": "code",
      "source": [
        "(X_train, y_train), (X_test, y_test), preproc = text.texts_from_array(x_train = X_train,\n",
        "                                                                      y_train = y_train,\n",
        "                                                                      x_test = X_test,\n",
        "                                                                      y_test = y_test,\n",
        "                                                                      class_names = ['0', '1','2','3'], \n",
        "                                                                      preprocess_mode = 'bert', \n",
        "                                                                      ngram_range = 1,\n",
        "                                                                      maxlen = 320)"
      ],
      "metadata": {
        "id": "M7rCp0UXOync",
        "colab": {
          "base_uri": "https://localhost:8080/",
          "height": 295
        },
        "outputId": "0b9ce26f-4588-44f1-e0d7-5b07b5d8d3bb"
      },
      "execution_count": null,
      "outputs": [
        {
          "output_type": "stream",
          "name": "stdout",
          "text": [
            "downloading pretrained BERT model (multi_cased_L-12_H-768_A-12.zip)...\n",
            "[██████████████████████████████████████████████████]\n",
            "extracting pretrained BERT model...\n",
            "done.\n",
            "\n",
            "cleanup downloaded zip...\n",
            "done.\n",
            "\n",
            "preprocessing train...\n",
            "language: ar\n"
          ]
        },
        {
          "output_type": "display_data",
          "data": {
            "text/plain": [
              "<IPython.core.display.HTML object>"
            ],
            "text/html": [
              "\n",
              "<style>\n",
              "    /* Turns off some styling */\n",
              "    progress {\n",
              "        /* gets rid of default border in Firefox and Opera. */\n",
              "        border: none;\n",
              "        /* Needs to be in here for Safari polyfill so background images work as expected. */\n",
              "        background-size: auto;\n",
              "    }\n",
              "    progress:not([value]), progress:not([value])::-webkit-progress-bar {\n",
              "        background: repeating-linear-gradient(45deg, #7e7e7e, #7e7e7e 10px, #5c5c5c 10px, #5c5c5c 20px);\n",
              "    }\n",
              "    .progress-bar-interrupted, .progress-bar-interrupted::-webkit-progress-bar {\n",
              "        background: #F44336;\n",
              "    }\n",
              "</style>\n"
            ]
          },
          "metadata": {}
        },
        {
          "output_type": "display_data",
          "data": {
            "text/plain": [
              "<IPython.core.display.HTML object>"
            ],
            "text/html": [
              "done."
            ]
          },
          "metadata": {}
        },
        {
          "output_type": "stream",
          "name": "stdout",
          "text": [
            "Is Multi-Label? False\n",
            "preprocessing test...\n",
            "language: ar\n"
          ]
        },
        {
          "output_type": "display_data",
          "data": {
            "text/plain": [
              "<IPython.core.display.HTML object>"
            ],
            "text/html": [
              "\n",
              "<style>\n",
              "    /* Turns off some styling */\n",
              "    progress {\n",
              "        /* gets rid of default border in Firefox and Opera. */\n",
              "        border: none;\n",
              "        /* Needs to be in here for Safari polyfill so background images work as expected. */\n",
              "        background-size: auto;\n",
              "    }\n",
              "    progress:not([value]), progress:not([value])::-webkit-progress-bar {\n",
              "        background: repeating-linear-gradient(45deg, #7e7e7e, #7e7e7e 10px, #5c5c5c 10px, #5c5c5c 20px);\n",
              "    }\n",
              "    .progress-bar-interrupted, .progress-bar-interrupted::-webkit-progress-bar {\n",
              "        background: #F44336;\n",
              "    }\n",
              "</style>\n"
            ]
          },
          "metadata": {}
        },
        {
          "output_type": "display_data",
          "data": {
            "text/plain": [
              "<IPython.core.display.HTML object>"
            ],
            "text/html": [
              "done."
            ]
          },
          "metadata": {}
        },
        {
          "output_type": "stream",
          "name": "stdout",
          "text": [
            "task: text classification\n"
          ]
        }
      ]
    },
    {
      "cell_type": "code",
      "source": [
        "# define the classifier\n",
        "model = text.text_classifier('bert',\n",
        "                              train_data = (X_train, y_train),\n",
        "                              preproc = preproc)"
      ],
      "metadata": {
        "id": "aw-bQkyfOync",
        "colab": {
          "base_uri": "https://localhost:8080/"
        },
        "outputId": "8bf87efd-5c1b-4f3c-9d70-4f83ac3f8767"
      },
      "execution_count": null,
      "outputs": [
        {
          "output_type": "stream",
          "name": "stdout",
          "text": [
            "Is Multi-Label? False\n",
            "maxlen is 320\n",
            "done.\n"
          ]
        }
      ]
    },
    {
      "cell_type": "code",
      "source": [
        "learner = ktrain.get_learner(model,\n",
        "                             train_data = (X_train, y_train),\n",
        "                             batch_size = 8)"
      ],
      "metadata": {
        "id": "YUXD2JK3Oync"
      },
      "execution_count": null,
      "outputs": []
    },
    {
      "cell_type": "code",
      "source": [
        "history = learner.fit_onecycle(1e-5, 2)"
      ],
      "metadata": {
        "id": "NyY1yRjkOync",
        "colab": {
          "base_uri": "https://localhost:8080/"
        },
        "outputId": "73d67271-73de-47d9-8d8c-aec9fd5dd7f5"
      },
      "execution_count": null,
      "outputs": [
        {
          "output_type": "stream",
          "name": "stdout",
          "text": [
            "\n",
            "\n",
            "begin training using onecycle policy with max lr of 1e-05...\n",
            "Epoch 1/2\n",
            "970/970 [==============================] - 648s 648ms/step - loss: 0.9156 - accuracy: 0.6669\n",
            "Epoch 2/2\n",
            "970/970 [==============================] - 629s 649ms/step - loss: 0.7786 - accuracy: 0.6984\n"
          ]
        }
      ]
    },
    {
      "cell_type": "code",
      "source": [
        "learner.validate(val_data = (X_test, y_test))"
      ],
      "metadata": {
        "id": "sXjByJtWOync",
        "colab": {
          "base_uri": "https://localhost:8080/"
        },
        "outputId": "79ecb6dc-aaea-47e9-dac9-aa6424652692"
      },
      "execution_count": null,
      "outputs": [
        {
          "output_type": "stream",
          "name": "stdout",
          "text": [
            "61/61 [==============================] - 53s 814ms/step\n",
            "              precision    recall  f1-score   support\n",
            "\n",
            "           0       0.52      0.38      0.44       321\n",
            "           1       0.32      0.04      0.08       159\n",
            "           2       0.75      0.92      0.83      1316\n",
            "           3       0.41      0.24      0.30       143\n",
            "\n",
            "    accuracy                           0.71      1939\n",
            "   macro avg       0.50      0.39      0.41      1939\n",
            "weighted avg       0.66      0.71      0.66      1939\n",
            "\n"
          ]
        },
        {
          "output_type": "execute_result",
          "data": {
            "text/plain": [
              "array([[ 122,    7,  185,    7],\n",
              "       [  38,    7,  107,    7],\n",
              "       [  67,    7, 1208,   34],\n",
              "       [   6,    1,  102,   34]])"
            ]
          },
          "metadata": {},
          "execution_count": 116
        }
      ]
    },
    {
      "cell_type": "markdown",
      "source": [
        "**Machine** **Learning** *models*"
      ],
      "metadata": {
        "id": "TPfuNuO33Meg"
      }
    },
    {
      "cell_type": "code",
      "source": [
        "X = df['text'].tolist()\n",
        "y = df['category'].tolist()\n",
        "X_train, X_test, y_train, y_test = train_test_split(X, y, test_size=0.2)"
      ],
      "metadata": {
        "id": "sAxf4mSU3SIH"
      },
      "execution_count": null,
      "outputs": []
    },
    {
      "cell_type": "code",
      "source": [
        "from sklearn.feature_extraction.text import CountVectorizer\n",
        "from sklearn.metrics import f1_score\n",
        "from sklearn.metrics import accuracy_score"
      ],
      "metadata": {
        "id": "RW_Q3DR033wu"
      },
      "execution_count": null,
      "outputs": []
    },
    {
      "cell_type": "code",
      "execution_count": null,
      "metadata": {
        "id": "zZbIt6KV2mFR"
      },
      "outputs": [],
      "source": [
        "vectorizer = CountVectorizer()\n",
        "vector_count_train = vectorizer.fit_transform(X_train)\n",
        "vector_count_test = vectorizer.transform(X_test)"
      ]
    },
    {
      "cell_type": "code",
      "source": [
        "print(\"n_samples: %d, n_features: %d\" % vector_count_train.shape)"
      ],
      "metadata": {
        "colab": {
          "base_uri": "https://localhost:8080/"
        },
        "id": "722hpn8lxXxC",
        "outputId": "5287027d-7d6c-4dd9-f349-2c07a7de2a46"
      },
      "execution_count": null,
      "outputs": [
        {
          "output_type": "stream",
          "name": "stdout",
          "text": [
            "n_samples: 7755, n_features: 32544\n"
          ]
        }
      ]
    },
    {
      "cell_type": "code",
      "source": [
        "f1_scores = []\n",
        "accuracy = []\n",
        "models = ['Random Forest','LogisticRegression', 'xgboost']"
      ],
      "metadata": {
        "id": "vLhI1DSBqGub"
      },
      "execution_count": null,
      "outputs": []
    },
    {
      "cell_type": "code",
      "execution_count": null,
      "metadata": {
        "colab": {
          "base_uri": "https://localhost:8080/"
        },
        "id": "RsVuSt5941Vd",
        "outputId": "30b355ce-acb7-4d4d-e72c-af20c87d648d"
      },
      "outputs": [
        {
          "output_type": "stream",
          "name": "stdout",
          "text": [
            "              precision    recall  f1-score   support\n",
            "\n",
            "         NEG       0.58      0.12      0.20       333\n",
            "     NEUTRAL       0.50      0.04      0.08       163\n",
            "         OBJ       0.68      0.97      0.80      1284\n",
            "         POS       0.42      0.07      0.12       159\n",
            "\n",
            "    accuracy                           0.67      1939\n",
            "   macro avg       0.55      0.30      0.30      1939\n",
            "weighted avg       0.63      0.67      0.58      1939\n",
            "\n"
          ]
        }
      ],
      "source": [
        "#random forest\n",
        "from sklearn.ensemble import RandomForestClassifier\n",
        "forest_model = RandomForestClassifier()\n",
        "forest_model.fit(vector_count_train, y_train)\n",
        "pred_forst = forest_model.predict(vector_count_test)\n",
        "print(classification_report(y_test, pred_forst))"
      ]
    },
    {
      "cell_type": "code",
      "source": [
        "#LogisticRegression\n",
        "from sklearn.linear_model import LogisticRegression\n",
        "clf = LogisticRegression()\n",
        "clf.fit(vector_count_train, y_train)\n",
        "pred_clf = clf.predict(vector_count_test)\n",
        "print(classification_report(y_test, pred_clf))"
      ],
      "metadata": {
        "colab": {
          "base_uri": "https://localhost:8080/"
        },
        "id": "rWh4eKYp4eBQ",
        "outputId": "80941bb2-456f-4113-cf1e-3ba6083aa2e2"
      },
      "execution_count": null,
      "outputs": [
        {
          "output_type": "stream",
          "name": "stdout",
          "text": [
            "              precision    recall  f1-score   support\n",
            "\n",
            "         NEG       0.48      0.30      0.37       333\n",
            "     NEUTRAL       0.30      0.09      0.13       163\n",
            "         OBJ       0.72      0.92      0.81      1284\n",
            "         POS       0.50      0.13      0.21       159\n",
            "\n",
            "    accuracy                           0.68      1939\n",
            "   macro avg       0.50      0.36      0.38      1939\n",
            "weighted avg       0.62      0.68      0.63      1939\n",
            "\n"
          ]
        },
        {
          "output_type": "stream",
          "name": "stderr",
          "text": [
            "/usr/local/lib/python3.8/dist-packages/sklearn/linear_model/_logistic.py:814: ConvergenceWarning: lbfgs failed to converge (status=1):\n",
            "STOP: TOTAL NO. of ITERATIONS REACHED LIMIT.\n",
            "\n",
            "Increase the number of iterations (max_iter) or scale the data as shown in:\n",
            "    https://scikit-learn.org/stable/modules/preprocessing.html\n",
            "Please also refer to the documentation for alternative solver options:\n",
            "    https://scikit-learn.org/stable/modules/linear_model.html#logistic-regression\n",
            "  n_iter_i = _check_optimize_result(\n"
          ]
        }
      ]
    },
    {
      "cell_type": "markdown",
      "source": [
        "# **RESULT**"
      ],
      "metadata": {
        "id": "CJyvQSWd6dJw"
      }
    },
    {
      "cell_type": "markdown",
      "source": [
        "**Modeling** **With** **cleaning**\n",
        "\n",
        "\n",
        "> Dense , Sequential  = 0.65\n",
        "\n",
        "\n",
        "> LSTM , GlobalMaxPool1D = 0.65\n",
        "\n",
        "\n",
        "> BERT = 0.68\n",
        "\n",
        "**Modeling** **Without** **Cleaing** \n",
        "\n",
        "\n",
        "> BERT = 0.71\n",
        "\n",
        "\n",
        "> random forest = 0.67\n",
        "\n",
        "\n",
        "> LogisticRegression = 0.68\n",
        "\n",
        "\n",
        "\n",
        "\n",
        "\n",
        "\n",
        "\n",
        "\n",
        "\n",
        "\n",
        "\n",
        "\n",
        "\n"
      ],
      "metadata": {
        "id": "uwOSz7ixWDix"
      }
    },
    {
      "cell_type": "markdown",
      "source": [
        "**Conclusion** **Best** **Model** **from** **what** **i** **tried**  **BERT** **without** **cleaning** "
      ],
      "metadata": {
        "id": "HYcW2yz_6DxK"
      }
    }
  ],
  "metadata": {
    "colab": {
      "collapsed_sections": [
        "JnZxqH0_1vLN",
        "MeP2ln8e2ra1"
      ],
      "provenance": []
    },
    "gpuClass": "standard",
    "kernelspec": {
      "display_name": "Python 3",
      "name": "python3"
    },
    "language_info": {
      "name": "python"
    },
    "accelerator": "GPU"
  },
  "nbformat": 4,
  "nbformat_minor": 0
}